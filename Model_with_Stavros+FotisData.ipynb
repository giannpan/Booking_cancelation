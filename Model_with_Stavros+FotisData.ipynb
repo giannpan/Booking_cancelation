{
 "cells": [
  {
   "cell_type": "code",
   "execution_count": 15,
   "id": "7e726eef-b6d5-4ff7-9f21-c307ddab6238",
   "metadata": {},
   "outputs": [],
   "source": [
    "import numpy as np\n",
    "import pandas as pd"
   ]
  },
  {
   "cell_type": "code",
   "execution_count": 16,
   "id": "7a75016e-f289-41ce-88cf-8098452d8365",
   "metadata": {},
   "outputs": [],
   "source": [
    "import pickle"
   ]
  },
  {
   "cell_type": "code",
   "execution_count": 17,
   "id": "1f74f5e0-5c7e-4ab2-8d6f-1a1becedddf4",
   "metadata": {},
   "outputs": [],
   "source": [
    "import matplotlib.pyplot as plt\n",
    "import seaborn as sns\n",
    "from matplotlib_venn import venn2, venn2_circles \n",
    "from tqdm import tqdm"
   ]
  },
  {
   "cell_type": "code",
   "execution_count": 18,
   "id": "359d8836-e569-4501-9d90-ba82b448b83f",
   "metadata": {},
   "outputs": [],
   "source": [
    "from sklearn.model_selection import train_test_split\n",
    "from sklearn.preprocessing import StandardScaler, MinMaxScaler, RobustScaler"
   ]
  },
  {
   "cell_type": "code",
   "execution_count": 19,
   "id": "b30d18dc-c2ac-4332-852b-ec93012afeed",
   "metadata": {},
   "outputs": [],
   "source": [
    "from sklearn.pipeline import Pipeline\n",
    "from sklearn.model_selection import GridSearchCV\n",
    "from sklearn.ensemble import RandomForestClassifier\n",
    "import xgboost as xgb\n",
    "from sklearn.svm import SVC"
   ]
  },
  {
   "cell_type": "code",
   "execution_count": 20,
   "id": "7578b81a-9ba8-4b91-ad07-2854d0d3dc32",
   "metadata": {},
   "outputs": [],
   "source": [
    "from sklearn.feature_selection import SelectKBest, chi2, mutual_info_classif,SelectFromModel\n",
    "from mrmr import mrmr_classif, mrmr_regression"
   ]
  },
  {
   "cell_type": "code",
   "execution_count": 21,
   "id": "e9019390-710f-41cf-9aeb-67fe59c66e9e",
   "metadata": {},
   "outputs": [],
   "source": [
    "from sklearn.metrics import f1_score, balanced_accuracy_score\n",
    "from sklearn.metrics import classification_report,confusion_matrix"
   ]
  },
  {
   "cell_type": "code",
   "execution_count": null,
   "id": "3e09f689-6e44-4a4a-b449-f30401aa729d",
   "metadata": {},
   "outputs": [],
   "source": []
  },
  {
   "cell_type": "code",
   "execution_count": 22,
   "id": "246a1a22-3c20-4f10-8a6e-447451eee802",
   "metadata": {},
   "outputs": [],
   "source": [
    "df = pd.read_csv(r'C:\\Users\\USER\\Downloads\\final_df.csv')"
   ]
  },
  {
   "cell_type": "code",
   "execution_count": 23,
   "id": "1532310d-358b-4314-811a-5f1092acbced",
   "metadata": {},
   "outputs": [],
   "source": [
    "pd.set_option('display.max_columns', None)"
   ]
  },
  {
   "cell_type": "code",
   "execution_count": null,
   "id": "51689eef-8514-47c5-9565-53a3e3193307",
   "metadata": {},
   "outputs": [],
   "source": []
  },
  {
   "cell_type": "code",
   "execution_count": 24,
   "id": "f80bb2cb-21a4-4cff-803b-d2e2a0e059cf",
   "metadata": {},
   "outputs": [
    {
     "data": {
      "text/plain": [
       "0    72476\n",
       "1    42292\n",
       "Name: is_canceled, dtype: int64"
      ]
     },
     "execution_count": 24,
     "metadata": {},
     "output_type": "execute_result"
    }
   ],
   "source": [
    "df['is_canceled'].value_counts()"
   ]
  },
  {
   "cell_type": "code",
   "execution_count": null,
   "id": "5ba165a7-e581-4e6c-8394-96015feb4684",
   "metadata": {},
   "outputs": [],
   "source": []
  },
  {
   "cell_type": "markdown",
   "id": "868b6d04-2793-441a-bea3-ecb028a53e09",
   "metadata": {},
   "source": [
    "# Grid Search"
   ]
  },
  {
   "cell_type": "code",
   "execution_count": 25,
   "id": "eca67f61-18be-4f80-9e1d-f1adeaeaf8a0",
   "metadata": {},
   "outputs": [],
   "source": [
    "df_test = df.sample(n = 100000)"
   ]
  },
  {
   "cell_type": "code",
   "execution_count": 26,
   "id": "dfb7ef70-cbc8-4a87-89b0-7be4a7291f2b",
   "metadata": {},
   "outputs": [],
   "source": [
    "X = df_test.iloc[:,:-1]"
   ]
  },
  {
   "cell_type": "code",
   "execution_count": 27,
   "id": "b9e4ef13-d791-40d6-8fe6-bcab7d65e8c1",
   "metadata": {},
   "outputs": [],
   "source": [
    "y = df_test.iloc[:,-1]"
   ]
  },
  {
   "cell_type": "code",
   "execution_count": 28,
   "id": "93e9be17-77c0-40c7-91ec-04f35950eb37",
   "metadata": {},
   "outputs": [],
   "source": [
    "X_train, X_test, y_train,y_test = train_test_split(X, y, random_state = 42)"
   ]
  },
  {
   "cell_type": "code",
   "execution_count": null,
   "id": "64336a19-93e8-412f-b6ee-5fbe8fe49e6e",
   "metadata": {},
   "outputs": [],
   "source": []
  },
  {
   "cell_type": "code",
   "execution_count": 29,
   "id": "14619e1d-155e-4ee9-b387-9881422b44c8",
   "metadata": {},
   "outputs": [],
   "source": [
    "classifiers = [\n",
    "    RandomForestClassifier(class_weight='balanced'),\n",
    "    xgb.XGBClassifier(),\n",
    "    SVC()]"
   ]
  },
  {
   "cell_type": "code",
   "execution_count": 30,
   "id": "2a666718-0e8a-4899-9c86-bba4abd8905d",
   "metadata": {},
   "outputs": [],
   "source": [
    "scalers = [RobustScaler(),MinMaxScaler(),StandardScaler()]"
   ]
  },
  {
   "cell_type": "code",
   "execution_count": null,
   "id": "d93d5d14-7c81-42a9-9fdf-d35b8bbb58ed",
   "metadata": {},
   "outputs": [
    {
     "name": "stderr",
     "output_type": "stream",
     "text": [
      "  0%|                                                                                            | 0/3 [00:00<?, ?it/s]\n",
      "  0%|                                                                                            | 0/3 [00:00<?, ?it/s]\u001b[A"
     ]
    }
   ],
   "source": [
    "lstresults = []\n",
    "for scaler in tqdm(scalers):\n",
    "    for classifier in tqdm(classifiers):\n",
    "        pipe = Pipeline([\n",
    "            ('scaler',scaler),\n",
    "            ('feat_selection', SelectKBest(mutual_info_classif)),\n",
    "            ('classifier', classifier)\n",
    "        ])\n",
    "        parameters = {\n",
    "            'feat_selection__k':[i for i in range(15,30)]       \n",
    "            }\n",
    "        CV = GridSearchCV(pipe, parameters, \n",
    "                          scoring='f1_macro')\n",
    "        CV.fit(X_train, y_train)\n",
    "        a = classifier\n",
    "        b = scaler\n",
    "        c = CV.cv_results_['params']\n",
    "        d = CV.cv_results_['mean_test_score']\n",
    "        lstresults.append([a,b,c,d])"
   ]
  },
  {
   "cell_type": "code",
   "execution_count": null,
   "id": "de20b480-c21d-48a5-a07a-714c4114b072",
   "metadata": {},
   "outputs": [],
   "source": [
    "lstresults"
   ]
  },
  {
   "cell_type": "code",
   "execution_count": null,
   "id": "ad7f4b14-7ae6-4cf6-999b-ae09cdc77a72",
   "metadata": {},
   "outputs": [],
   "source": [
    "res = pd.DataFrame(lstresults)\n",
    "res = res.explode([2,3])"
   ]
  },
  {
   "cell_type": "code",
   "execution_count": null,
   "id": "0177a9ed-f4b4-4cd7-af6a-9e7d60ee9422",
   "metadata": {},
   "outputs": [],
   "source": [
    "res"
   ]
  },
  {
   "cell_type": "code",
   "execution_count": null,
   "id": "bce97e1c-ca3f-4fe3-b4bb-c7641a95c572",
   "metadata": {},
   "outputs": [],
   "source": [
    "res.sort_values(3,ascending = False)"
   ]
  },
  {
   "cell_type": "code",
   "execution_count": null,
   "id": "a7148c36-19c4-4419-9f03-cdefadc567a9",
   "metadata": {},
   "outputs": [],
   "source": [
    "pipe = Pipeline([\n",
    "  ('scaler',RobustScaler()),\n",
    "  ('feat_select', SelectKBest(mutual_info_classif,k=29)),\n",
    "  ('classifier', RandomForestClassifier(random_state=42))\n",
    "])\n",
    "\n",
    "pipe.fit(X_train, y_train)\n",
    "predictions = pipe.predict(X_test)\n",
    "print(' - balanced accuracy:', round(balanced_accuracy_score(y_test, predictions),2))\n",
    "print(' - macro f1:', round(f1_score(y_test, predictions, average='macro'),2))"
   ]
  },
  {
   "cell_type": "code",
   "execution_count": null,
   "id": "315f3a02-020e-4839-b9ff-a5b6626331d1",
   "metadata": {},
   "outputs": [],
   "source": [
    "X_new = SelectKBest(score_func= mutual_info_classif, k=29).fit(X_train,y_train)"
   ]
  },
  {
   "cell_type": "code",
   "execution_count": null,
   "id": "0d42ecb6-0541-465e-aebd-479fe880b9b7",
   "metadata": {},
   "outputs": [],
   "source": [
    "mask = X_new.get_support(indices=True)"
   ]
  },
  {
   "cell_type": "code",
   "execution_count": null,
   "id": "bb5a74ad-91f2-4aa7-a6ca-17eb240e73aa",
   "metadata": {},
   "outputs": [],
   "source": [
    "mask"
   ]
  },
  {
   "cell_type": "code",
   "execution_count": null,
   "id": "f1d5acbf-6d62-4b09-8296-3c3ef77b052a",
   "metadata": {},
   "outputs": [],
   "source": [
    "lstcolumns = X_train.columns"
   ]
  },
  {
   "cell_type": "code",
   "execution_count": null,
   "id": "8b8d31d8-af82-4ba3-bed6-04fe367061e9",
   "metadata": {},
   "outputs": [],
   "source": [
    "dic = {i:lstcolumns[i] for i in range(len(lstcolumns))}"
   ]
  },
  {
   "cell_type": "code",
   "execution_count": null,
   "id": "6db1d9cf-f622-4945-bdc3-5aa9203eb390",
   "metadata": {},
   "outputs": [],
   "source": [
    "dic"
   ]
  },
  {
   "cell_type": "code",
   "execution_count": null,
   "id": "94b29754-32dd-41ce-a4c7-0b3949eb53b5",
   "metadata": {},
   "outputs": [],
   "source": [
    "importantkbest = [dic[i] for i in list(mask)]"
   ]
  },
  {
   "cell_type": "code",
   "execution_count": null,
   "id": "0d3e4eee-510c-4927-8e6a-8d7853b5c88a",
   "metadata": {},
   "outputs": [],
   "source": [
    "importantkbest"
   ]
  },
  {
   "cell_type": "code",
   "execution_count": null,
   "id": "2e55395f-ee5e-4521-8fac-5471fbc16fb9",
   "metadata": {},
   "outputs": [],
   "source": []
  },
  {
   "cell_type": "code",
   "execution_count": null,
   "id": "6e9e07b3-0faf-4078-b24e-3d1fccdd846a",
   "metadata": {},
   "outputs": [],
   "source": []
  },
  {
   "cell_type": "code",
   "execution_count": null,
   "id": "c08fdd15-41e7-4d00-880f-f38be242a39d",
   "metadata": {},
   "outputs": [],
   "source": [
    "importantkbest = list(X_train.columns)"
   ]
  },
  {
   "cell_type": "code",
   "execution_count": null,
   "id": "6557c550-0372-40d5-8b1a-1978a155b6ec",
   "metadata": {},
   "outputs": [],
   "source": []
  },
  {
   "cell_type": "markdown",
   "id": "08df5f94-ef26-4e7d-86ef-efabec2eab2f",
   "metadata": {},
   "source": [
    "# MRMR"
   ]
  },
  {
   "cell_type": "code",
   "execution_count": null,
   "id": "7c1d3da5-f77f-49b2-aea7-325e2c5384d3",
   "metadata": {},
   "outputs": [],
   "source": [
    "df.columns"
   ]
  },
  {
   "cell_type": "code",
   "execution_count": null,
   "id": "c38f42fd-205c-4519-9a81-789e1e481ecf",
   "metadata": {},
   "outputs": [],
   "source": [
    "classifiers = [\n",
    "    RandomForestClassifier(class_weight='balanced'),\n",
    "    xgb.XGBClassifier(),\n",
    "    SVC()]"
   ]
  },
  {
   "cell_type": "code",
   "execution_count": null,
   "id": "df3da9c6-a51b-48f2-a554-875c503035ab",
   "metadata": {},
   "outputs": [],
   "source": [
    "results = []\n",
    "for classifier in classifiers:\n",
    "    clas = classifier\n",
    "    for i in range(5,30):\n",
    "        lst = (mrmr_classif(X_train,y_train.values,K=i))\n",
    "        print(lst)\n",
    "        X_train_temp = X_train.loc[:,lst]\n",
    "        X_test_temp = X_test.loc[:,lst]\n",
    "        clas.fit(X_train_temp, y_train)\n",
    "        y_pred = classifier.predict(X_test_temp)\n",
    "        a = len(lst)\n",
    "        b = lst\n",
    "        c = str(classifier)\n",
    "        d = balanced_accuracy_score(y_test, y_pred)\n",
    "        e = f1_score(y_test, y_pred, average='macro')\n",
    "        results.append([a,b,c,d,e])"
   ]
  },
  {
   "cell_type": "code",
   "execution_count": null,
   "id": "164534a4-ebfa-44f0-bb89-62fc8655cf95",
   "metadata": {},
   "outputs": [],
   "source": [
    "res = pd.DataFrame(results)"
   ]
  },
  {
   "cell_type": "code",
   "execution_count": null,
   "id": "65976eb8-9bbf-4199-a83b-dd71d80f2260",
   "metadata": {
    "scrolled": true
   },
   "outputs": [],
   "source": [
    "res"
   ]
  },
  {
   "cell_type": "code",
   "execution_count": null,
   "id": "175db9bd-10e8-4660-93f7-612c21462371",
   "metadata": {
    "scrolled": true
   },
   "outputs": [],
   "source": [
    "res.sort_values(4,ascending = False)"
   ]
  },
  {
   "cell_type": "code",
   "execution_count": null,
   "id": "2e7bf1e9-954e-4b57-8682-22a1fe16f850",
   "metadata": {},
   "outputs": [],
   "source": [
    "importantmrmr = res.iloc[23,1]"
   ]
  },
  {
   "cell_type": "code",
   "execution_count": null,
   "id": "40944da8-2412-4636-85f9-8ac29daafbe3",
   "metadata": {},
   "outputs": [],
   "source": [
    "importantmrmr"
   ]
  },
  {
   "cell_type": "code",
   "execution_count": null,
   "id": "a20c38e1-d987-4ad3-82f1-ccfa1e5ea529",
   "metadata": {},
   "outputs": [],
   "source": [
    "importantkbest"
   ]
  },
  {
   "cell_type": "code",
   "execution_count": null,
   "id": "cfd41401-7195-45f3-9135-dbc7e93cf991",
   "metadata": {},
   "outputs": [],
   "source": [
    "set2 = set(importantmrmr) & set(importantkbest)"
   ]
  },
  {
   "cell_type": "code",
   "execution_count": null,
   "id": "2e1d8ecc-2d4e-4fbb-a52f-80fb868db674",
   "metadata": {},
   "outputs": [],
   "source": [
    "venn2(subsets=(len(importantmrmr), len(importantkbest), len(set2)),  \n",
    "      set_labels=('MRMR Important', 'Select K Best Important'), \n",
    "      set_colors=(\"orange\", \"blue\"), alpha=0.7) \n",
    "  \n",
    "# add outline \n",
    "venn2_circles(subsets=(len(importantmrmr), len(importantkbest), len(set2)),  \n",
    "              linestyle=\"dashed\",  \n",
    "              linewidth=2) \n",
    "  \n",
    "# assign title of the venn diagram \n",
    "plt.title(\"Venn Diagram in Feature Importance\")   \n",
    "plt.show() "
   ]
  },
  {
   "cell_type": "code",
   "execution_count": null,
   "id": "46318fc1-f1f3-4233-9111-95f2b49d3f2c",
   "metadata": {},
   "outputs": [],
   "source": []
  },
  {
   "cell_type": "code",
   "execution_count": null,
   "id": "e772c030-d66e-44f9-a69c-d6c4bb405531",
   "metadata": {},
   "outputs": [],
   "source": []
  },
  {
   "cell_type": "code",
   "execution_count": null,
   "id": "fcbe2efa-96f3-4154-b9a0-ff187334a969",
   "metadata": {},
   "outputs": [],
   "source": []
  },
  {
   "cell_type": "code",
   "execution_count": null,
   "id": "35f816de-3c09-4892-9c24-7aad69f4e027",
   "metadata": {},
   "outputs": [],
   "source": []
  },
  {
   "cell_type": "code",
   "execution_count": null,
   "id": "89478b91-14ee-4663-aa39-868fd8a24d7c",
   "metadata": {},
   "outputs": [],
   "source": []
  },
  {
   "cell_type": "code",
   "execution_count": null,
   "id": "f60b10ea-02d4-4599-b4d7-e39814f0957f",
   "metadata": {},
   "outputs": [],
   "source": []
  },
  {
   "cell_type": "code",
   "execution_count": null,
   "id": "507548bc-2936-47f0-91e3-02b4272bb26d",
   "metadata": {},
   "outputs": [],
   "source": []
  },
  {
   "cell_type": "code",
   "execution_count": null,
   "id": "79c9d3d2-5d9d-4bf9-baa4-59dec95f95ed",
   "metadata": {},
   "outputs": [],
   "source": []
  },
  {
   "cell_type": "code",
   "execution_count": null,
   "id": "0f7568a8-401b-4054-a681-7b5d83c00b0d",
   "metadata": {},
   "outputs": [],
   "source": []
  },
  {
   "cell_type": "code",
   "execution_count": null,
   "id": "eb047f12-e7f2-4290-82cf-2c590e6eb9b6",
   "metadata": {},
   "outputs": [],
   "source": []
  },
  {
   "cell_type": "code",
   "execution_count": null,
   "id": "eee023dc-7a70-4122-b2b2-f21cbe43ac89",
   "metadata": {},
   "outputs": [],
   "source": [
    "finalmodel = Pipeline([\n",
    "  ('scaler',RobustScaler()),\n",
    "  ('feat_select', SelectKBest(mutual_info_classif,k=29)),\n",
    "  ('classifier', RandomForestClassifier(random_state=42))\n",
    "])\n",
    "\n",
    "finalmodel.fit(X_train, y_train)\n",
    "predictions = finalmodel.predict(X_test)\n",
    "print(' - balanced accuracy:', round(balanced_accuracy_score(y_test, predictions),2))\n",
    "print(' - macro f1:', round(f1_score(y_test, predictions, average='macro'),2))"
   ]
  },
  {
   "cell_type": "code",
   "execution_count": null,
   "id": "d3c062ba-23f8-4db2-8ae4-0851332ba592",
   "metadata": {},
   "outputs": [],
   "source": [
    "cnf_matrix = confusion_matrix(predictions, y_test)\n",
    "cnf_matrix"
   ]
  },
  {
   "cell_type": "code",
   "execution_count": null,
   "id": "81249ed3-9205-4251-93ee-6189aaf1e221",
   "metadata": {},
   "outputs": [],
   "source": [
    "class_names = [0,1]\n",
    "fig, ax = plt.subplots()\n",
    "tick_marks = np.arange(len(class_names))\n",
    "plt.xticks(tick_marks,class_names)\n",
    "plt.yticks(tick_marks,class_names)\n",
    "\n",
    "#Create Heatmap\n",
    "sns.heatmap(pd.DataFrame(cnf_matrix), annot= True, cmap = \"OrRd\", fmt =\"g\")\n",
    "plt.tight_layout()\n",
    "plt.title(\"Confusion matrix\")\n",
    "plt.xlabel(\"Actual Label\")\n",
    "plt.ylabel(\"Predicted Label\")\n",
    "None"
   ]
  },
  {
   "cell_type": "code",
   "execution_count": null,
   "id": "a2ccd39b-0d2f-49f8-b2b9-5d4a2f16a460",
   "metadata": {},
   "outputs": [],
   "source": []
  },
  {
   "cell_type": "code",
   "execution_count": null,
   "id": "9e9f3e47-4ef0-4830-8128-45dc183d727e",
   "metadata": {},
   "outputs": [],
   "source": []
  },
  {
   "cell_type": "code",
   "execution_count": null,
   "id": "3b11ee27-b36a-4b4d-82f7-74f0d04288ff",
   "metadata": {},
   "outputs": [],
   "source": []
  },
  {
   "cell_type": "code",
   "execution_count": null,
   "id": "cc1a761b-1f6b-4e80-bcb0-68db5d1357b3",
   "metadata": {},
   "outputs": [],
   "source": []
  }
 ],
 "metadata": {
  "kernelspec": {
   "display_name": "Python 3 (ipykernel)",
   "language": "python",
   "name": "python3"
  },
  "language_info": {
   "codemirror_mode": {
    "name": "ipython",
    "version": 3
   },
   "file_extension": ".py",
   "mimetype": "text/x-python",
   "name": "python",
   "nbconvert_exporter": "python",
   "pygments_lexer": "ipython3",
   "version": "3.9.17"
  }
 },
 "nbformat": 4,
 "nbformat_minor": 5
}
