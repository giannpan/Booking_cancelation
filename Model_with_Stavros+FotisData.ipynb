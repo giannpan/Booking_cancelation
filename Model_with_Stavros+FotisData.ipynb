{
 "cells": [
  {
   "cell_type": "code",
   "execution_count": 2,
   "id": "7e726eef-b6d5-4ff7-9f21-c307ddab6238",
   "metadata": {},
   "outputs": [],
   "source": [
    "import numpy as np\n",
    "import pandas as pd"
   ]
  },
  {
   "cell_type": "code",
   "execution_count": 3,
   "id": "7a75016e-f289-41ce-88cf-8098452d8365",
   "metadata": {},
   "outputs": [],
   "source": [
    "import pickle"
   ]
  },
  {
   "cell_type": "code",
   "execution_count": 4,
   "id": "1f74f5e0-5c7e-4ab2-8d6f-1a1becedddf4",
   "metadata": {},
   "outputs": [],
   "source": [
    "import matplotlib.pyplot as plt\n",
    "import seaborn as sns\n",
    "from matplotlib_venn import venn2, venn2_circles \n",
    "from tqdm import tqdm"
   ]
  },
  {
   "cell_type": "code",
   "execution_count": 5,
   "id": "359d8836-e569-4501-9d90-ba82b448b83f",
   "metadata": {},
   "outputs": [],
   "source": [
    "from sklearn.model_selection import train_test_split\n",
    "from sklearn.preprocessing import StandardScaler, MinMaxScaler, RobustScaler"
   ]
  },
  {
   "cell_type": "code",
   "execution_count": 6,
   "id": "b30d18dc-c2ac-4332-852b-ec93012afeed",
   "metadata": {},
   "outputs": [],
   "source": [
    "from sklearn.pipeline import Pipeline\n",
    "from sklearn.model_selection import GridSearchCV\n",
    "from sklearn.ensemble import RandomForestClassifier\n",
    "import xgboost as xgb\n",
    "from sklearn.svm import SVC"
   ]
  },
  {
   "cell_type": "code",
   "execution_count": 7,
   "id": "7578b81a-9ba8-4b91-ad07-2854d0d3dc32",
   "metadata": {},
   "outputs": [],
   "source": [
    "from sklearn.feature_selection import SelectKBest, chi2, mutual_info_classif,SelectFromModel\n",
    "from mrmr import mrmr_classif, mrmr_regression"
   ]
  },
  {
   "cell_type": "code",
   "execution_count": 8,
   "id": "e9019390-710f-41cf-9aeb-67fe59c66e9e",
   "metadata": {},
   "outputs": [],
   "source": [
    "from sklearn.metrics import f1_score, balanced_accuracy_score\n",
    "from sklearn.metrics import classification_report,confusion_matrix"
   ]
  },
  {
   "cell_type": "code",
   "execution_count": null,
   "id": "3e09f689-6e44-4a4a-b449-f30401aa729d",
   "metadata": {},
   "outputs": [],
   "source": []
  },
  {
   "cell_type": "code",
   "execution_count": 9,
   "id": "246a1a22-3c20-4f10-8a6e-447451eee802",
   "metadata": {},
   "outputs": [],
   "source": [
    "df = pd.read_csv(r'C:\\Users\\USER\\Downloads\\final_df.csv')"
   ]
  },
  {
   "cell_type": "code",
   "execution_count": 10,
   "id": "1532310d-358b-4314-811a-5f1092acbced",
   "metadata": {},
   "outputs": [],
   "source": [
    "pd.set_option('display.max_columns', None)"
   ]
  },
  {
   "cell_type": "code",
   "execution_count": null,
   "id": "51689eef-8514-47c5-9565-53a3e3193307",
   "metadata": {},
   "outputs": [],
   "source": []
  },
  {
   "cell_type": "code",
   "execution_count": 11,
   "id": "f80bb2cb-21a4-4cff-803b-d2e2a0e059cf",
   "metadata": {},
   "outputs": [
    {
     "data": {
      "text/plain": [
       "0    72476\n",
       "1    42292\n",
       "Name: is_canceled, dtype: int64"
      ]
     },
     "execution_count": 11,
     "metadata": {},
     "output_type": "execute_result"
    }
   ],
   "source": [
    "df['is_canceled'].value_counts()"
   ]
  },
  {
   "cell_type": "code",
   "execution_count": null,
   "id": "5ba165a7-e581-4e6c-8394-96015feb4684",
   "metadata": {},
   "outputs": [],
   "source": []
  },
  {
   "cell_type": "markdown",
   "id": "868b6d04-2793-441a-bea3-ecb028a53e09",
   "metadata": {},
   "source": [
    "# Grid Search"
   ]
  },
  {
   "cell_type": "code",
   "execution_count": 28,
   "id": "eca67f61-18be-4f80-9e1d-f1adeaeaf8a0",
   "metadata": {},
   "outputs": [],
   "source": [
    "df_test = df.sample(n = 100000)"
   ]
  },
  {
   "cell_type": "code",
   "execution_count": 29,
   "id": "dfb7ef70-cbc8-4a87-89b0-7be4a7291f2b",
   "metadata": {},
   "outputs": [],
   "source": [
    "X = df_test.iloc[:,:-1]"
   ]
  },
  {
   "cell_type": "code",
   "execution_count": 30,
   "id": "b9e4ef13-d791-40d6-8fe6-bcab7d65e8c1",
   "metadata": {},
   "outputs": [],
   "source": [
    "y = df_test.iloc[:,-1]"
   ]
  },
  {
   "cell_type": "code",
   "execution_count": 31,
   "id": "93e9be17-77c0-40c7-91ec-04f35950eb37",
   "metadata": {},
   "outputs": [],
   "source": [
    "X_train, X_test, y_train,y_test = train_test_split(X, y, random_state = 42)"
   ]
  },
  {
   "cell_type": "code",
   "execution_count": null,
   "id": "64336a19-93e8-412f-b6ee-5fbe8fe49e6e",
   "metadata": {},
   "outputs": [],
   "source": []
  },
  {
   "cell_type": "code",
   "execution_count": 32,
   "id": "14619e1d-155e-4ee9-b387-9881422b44c8",
   "metadata": {},
   "outputs": [],
   "source": [
    "classifiers = [\n",
    "    RandomForestClassifier(class_weight='balanced'),\n",
    "    xgb.XGBClassifier(),\n",
    "    SVC()]"
   ]
  },
  {
   "cell_type": "code",
   "execution_count": 33,
   "id": "2a666718-0e8a-4899-9c86-bba4abd8905d",
   "metadata": {},
   "outputs": [],
   "source": [
    "scalers = [RobustScaler(),MinMaxScaler(),StandardScaler()]"
   ]
  },
  {
   "cell_type": "code",
   "execution_count": 34,
   "id": "d93d5d14-7c81-42a9-9fdf-d35b8bbb58ed",
   "metadata": {},
   "outputs": [
    {
     "name": "stderr",
     "output_type": "stream",
     "text": [
      "  0%|                                                                                            | 0/3 [00:00<?, ?it/s]\n",
      "  0%|                                                                                            | 0/3 [00:00<?, ?it/s]\u001b[A\n",
      " 33%|████████████████████████████                                                        | 1/3 [00:52<01:44, 52.00s/it]\u001b[A\n",
      " 67%|████████████████████████████████████████████████████████                            | 2/3 [01:32<00:45, 45.20s/it]\u001b[A\n",
      "100%|████████████████████████████████████████████████████████████████████████████████████| 3/3 [02:14<00:00, 44.79s/it]\u001b[A\n",
      " 33%|███████████████████████████▋                                                       | 1/3 [02:14<04:28, 134.38s/it]\n",
      "  0%|                                                                                            | 0/3 [00:00<?, ?it/s]\u001b[A\n",
      " 33%|████████████████████████████                                                        | 1/3 [00:56<01:52, 56.22s/it]\u001b[A\n",
      " 67%|████████████████████████████████████████████████████████                            | 2/3 [01:39<00:48, 48.59s/it]\u001b[A\n",
      "100%|████████████████████████████████████████████████████████████████████████████████████| 3/3 [02:20<00:00, 46.79s/it]\u001b[A\n",
      " 67%|███████████████████████████████████████████████████████▎                           | 2/3 [04:34<02:17, 137.91s/it]\n",
      "  0%|                                                                                            | 0/3 [00:00<?, ?it/s]\u001b[A\n",
      " 33%|████████████████████████████                                                        | 1/3 [00:54<01:48, 54.33s/it]\u001b[A\n",
      " 67%|████████████████████████████████████████████████████████                            | 2/3 [01:35<00:46, 46.61s/it]\u001b[A\n",
      "100%|████████████████████████████████████████████████████████████████████████████████████| 3/3 [02:16<00:00, 45.46s/it]\u001b[A\n",
      "100%|███████████████████████████████████████████████████████████████████████████████████| 3/3 [06:51<00:00, 137.05s/it]\n"
     ]
    }
   ],
   "source": [
    "lstresults = []\n",
    "for scaler in tqdm(scalers):\n",
    "    for classifier in tqdm(classifiers):\n",
    "        pipe = Pipeline([\n",
    "            ('scaler',scaler),\n",
    "            ('feat_selection', SelectKBest(mutual_info_classif)),\n",
    "            ('classifier', classifier)\n",
    "        ])\n",
    "        parameters = {\n",
    "            'feat_selection__k':[i for i in range(15,30)]       \n",
    "            }\n",
    "        CV = GridSearchCV(pipe, parameters, \n",
    "                          scoring='f1_macro')\n",
    "        CV.fit(X_train, y_train)\n",
    "        a = classifier\n",
    "        b = scaler\n",
    "        c = CV.cv_results_['params']\n",
    "        d = CV.cv_results_['mean_test_score']\n",
    "        lstresults.append([a,b,c,d])"
   ]
  },
  {
   "cell_type": "code",
   "execution_count": 35,
   "id": "de20b480-c21d-48a5-a07a-714c4114b072",
   "metadata": {},
   "outputs": [
    {
     "data": {
      "text/plain": [
       "[[RandomForestClassifier(class_weight='balanced'),\n",
       "  RobustScaler(),\n",
       "  [{'feat_selection__k': 15},\n",
       "   {'feat_selection__k': 16},\n",
       "   {'feat_selection__k': 17},\n",
       "   {'feat_selection__k': 18},\n",
       "   {'feat_selection__k': 19},\n",
       "   {'feat_selection__k': 20},\n",
       "   {'feat_selection__k': 21},\n",
       "   {'feat_selection__k': 22},\n",
       "   {'feat_selection__k': 23},\n",
       "   {'feat_selection__k': 24},\n",
       "   {'feat_selection__k': 25},\n",
       "   {'feat_selection__k': 26},\n",
       "   {'feat_selection__k': 27},\n",
       "   {'feat_selection__k': 28},\n",
       "   {'feat_selection__k': 29}],\n",
       "  array([0.75895853, 0.75640676, 0.75697787, 0.77274649, 0.767661  ,\n",
       "         0.76023176, 0.76643779, 0.77139547, 0.77691824, 0.77689731,\n",
       "         0.77301777, 0.77414265, 0.77648954, 0.77215228, 0.78525146])],\n",
       " [XGBClassifier(base_score=None, booster=None, callbacks=None,\n",
       "                colsample_bylevel=None, colsample_bynode=None,\n",
       "                colsample_bytree=None, device=None, early_stopping_rounds=None,\n",
       "                enable_categorical=False, eval_metric=None, feature_types=None,\n",
       "                gamma=None, grow_policy=None, importance_type=None,\n",
       "                interaction_constraints=None, learning_rate=None, max_bin=None,\n",
       "                max_cat_threshold=None, max_cat_to_onehot=None,\n",
       "                max_delta_step=None, max_depth=None, max_leaves=None,\n",
       "                min_child_weight=None, missing=nan, monotone_constraints=None,\n",
       "                multi_strategy=None, n_estimators=None, n_jobs=None,\n",
       "                num_parallel_tree=None, random_state=None, ...),\n",
       "  RobustScaler(),\n",
       "  [{'feat_selection__k': 15},\n",
       "   {'feat_selection__k': 16},\n",
       "   {'feat_selection__k': 17},\n",
       "   {'feat_selection__k': 18},\n",
       "   {'feat_selection__k': 19},\n",
       "   {'feat_selection__k': 20},\n",
       "   {'feat_selection__k': 21},\n",
       "   {'feat_selection__k': 22},\n",
       "   {'feat_selection__k': 23},\n",
       "   {'feat_selection__k': 24},\n",
       "   {'feat_selection__k': 25},\n",
       "   {'feat_selection__k': 26},\n",
       "   {'feat_selection__k': 27},\n",
       "   {'feat_selection__k': 28},\n",
       "   {'feat_selection__k': 29}],\n",
       "  array([0.75893762, 0.75607258, 0.74964473, 0.76281781, 0.76588619,\n",
       "         0.76594016, 0.76667539, 0.77133025, 0.77366912, 0.77264655,\n",
       "         0.76526986, 0.77240902, 0.76888971, 0.77450186, 0.77669768])],\n",
       " [SVC(),\n",
       "  RobustScaler(),\n",
       "  [{'feat_selection__k': 15},\n",
       "   {'feat_selection__k': 16},\n",
       "   {'feat_selection__k': 17},\n",
       "   {'feat_selection__k': 18},\n",
       "   {'feat_selection__k': 19},\n",
       "   {'feat_selection__k': 20},\n",
       "   {'feat_selection__k': 21},\n",
       "   {'feat_selection__k': 22},\n",
       "   {'feat_selection__k': 23},\n",
       "   {'feat_selection__k': 24},\n",
       "   {'feat_selection__k': 25},\n",
       "   {'feat_selection__k': 26},\n",
       "   {'feat_selection__k': 27},\n",
       "   {'feat_selection__k': 28},\n",
       "   {'feat_selection__k': 29}],\n",
       "  array([0.72091273, 0.73331841, 0.70852756, 0.70291416, 0.71289169,\n",
       "         0.71930864, 0.7109548 , 0.74195889, 0.73414371, 0.72134848,\n",
       "         0.69150849, 0.71474463, 0.73051841, 0.75503492, 0.67879424])],\n",
       " [RandomForestClassifier(class_weight='balanced'),\n",
       "  MinMaxScaler(),\n",
       "  [{'feat_selection__k': 15},\n",
       "   {'feat_selection__k': 16},\n",
       "   {'feat_selection__k': 17},\n",
       "   {'feat_selection__k': 18},\n",
       "   {'feat_selection__k': 19},\n",
       "   {'feat_selection__k': 20},\n",
       "   {'feat_selection__k': 21},\n",
       "   {'feat_selection__k': 22},\n",
       "   {'feat_selection__k': 23},\n",
       "   {'feat_selection__k': 24},\n",
       "   {'feat_selection__k': 25},\n",
       "   {'feat_selection__k': 26},\n",
       "   {'feat_selection__k': 27},\n",
       "   {'feat_selection__k': 28},\n",
       "   {'feat_selection__k': 29}],\n",
       "  array([0.75567383, 0.76243365, 0.76601132, 0.7671573 , 0.76109299,\n",
       "         0.76501947, 0.76678704, 0.75878721, 0.76946769, 0.77131163,\n",
       "         0.76762029, 0.78383804, 0.76464727, 0.76976934, 0.77401437])],\n",
       " [XGBClassifier(base_score=None, booster=None, callbacks=None,\n",
       "                colsample_bylevel=None, colsample_bynode=None,\n",
       "                colsample_bytree=None, device=None, early_stopping_rounds=None,\n",
       "                enable_categorical=False, eval_metric=None, feature_types=None,\n",
       "                gamma=None, grow_policy=None, importance_type=None,\n",
       "                interaction_constraints=None, learning_rate=None, max_bin=None,\n",
       "                max_cat_threshold=None, max_cat_to_onehot=None,\n",
       "                max_delta_step=None, max_depth=None, max_leaves=None,\n",
       "                min_child_weight=None, missing=nan, monotone_constraints=None,\n",
       "                multi_strategy=None, n_estimators=None, n_jobs=None,\n",
       "                num_parallel_tree=None, random_state=None, ...),\n",
       "  MinMaxScaler(),\n",
       "  [{'feat_selection__k': 15},\n",
       "   {'feat_selection__k': 16},\n",
       "   {'feat_selection__k': 17},\n",
       "   {'feat_selection__k': 18},\n",
       "   {'feat_selection__k': 19},\n",
       "   {'feat_selection__k': 20},\n",
       "   {'feat_selection__k': 21},\n",
       "   {'feat_selection__k': 22},\n",
       "   {'feat_selection__k': 23},\n",
       "   {'feat_selection__k': 24},\n",
       "   {'feat_selection__k': 25},\n",
       "   {'feat_selection__k': 26},\n",
       "   {'feat_selection__k': 27},\n",
       "   {'feat_selection__k': 28},\n",
       "   {'feat_selection__k': 29}],\n",
       "  array([0.75034092, 0.75711637, 0.75633102, 0.75869336, 0.7695979 ,\n",
       "         0.7668949 , 0.76571374, 0.75907884, 0.76540887, 0.7677777 ,\n",
       "         0.76980283, 0.76821062, 0.77344691, 0.75634321, 0.77195891])],\n",
       " [SVC(),\n",
       "  MinMaxScaler(),\n",
       "  [{'feat_selection__k': 15},\n",
       "   {'feat_selection__k': 16},\n",
       "   {'feat_selection__k': 17},\n",
       "   {'feat_selection__k': 18},\n",
       "   {'feat_selection__k': 19},\n",
       "   {'feat_selection__k': 20},\n",
       "   {'feat_selection__k': 21},\n",
       "   {'feat_selection__k': 22},\n",
       "   {'feat_selection__k': 23},\n",
       "   {'feat_selection__k': 24},\n",
       "   {'feat_selection__k': 25},\n",
       "   {'feat_selection__k': 26},\n",
       "   {'feat_selection__k': 27},\n",
       "   {'feat_selection__k': 28},\n",
       "   {'feat_selection__k': 29}],\n",
       "  array([0.6906309 , 0.70732556, 0.69555749, 0.68766493, 0.70184342,\n",
       "         0.69074573, 0.70749044, 0.71045255, 0.69069765, 0.71258174,\n",
       "         0.70372596, 0.69094134, 0.70582297, 0.70931549, 0.71338137])],\n",
       " [RandomForestClassifier(class_weight='balanced'),\n",
       "  StandardScaler(),\n",
       "  [{'feat_selection__k': 15},\n",
       "   {'feat_selection__k': 16},\n",
       "   {'feat_selection__k': 17},\n",
       "   {'feat_selection__k': 18},\n",
       "   {'feat_selection__k': 19},\n",
       "   {'feat_selection__k': 20},\n",
       "   {'feat_selection__k': 21},\n",
       "   {'feat_selection__k': 22},\n",
       "   {'feat_selection__k': 23},\n",
       "   {'feat_selection__k': 24},\n",
       "   {'feat_selection__k': 25},\n",
       "   {'feat_selection__k': 26},\n",
       "   {'feat_selection__k': 27},\n",
       "   {'feat_selection__k': 28},\n",
       "   {'feat_selection__k': 29}],\n",
       "  array([0.75369782, 0.76561534, 0.75696109, 0.76138971, 0.75916317,\n",
       "         0.76365813, 0.77461361, 0.77877159, 0.76171344, 0.76610097,\n",
       "         0.77138156, 0.7773423 , 0.78123203, 0.77368576, 0.77315183])],\n",
       " [XGBClassifier(base_score=None, booster=None, callbacks=None,\n",
       "                colsample_bylevel=None, colsample_bynode=None,\n",
       "                colsample_bytree=None, device=None, early_stopping_rounds=None,\n",
       "                enable_categorical=False, eval_metric=None, feature_types=None,\n",
       "                gamma=None, grow_policy=None, importance_type=None,\n",
       "                interaction_constraints=None, learning_rate=None, max_bin=None,\n",
       "                max_cat_threshold=None, max_cat_to_onehot=None,\n",
       "                max_delta_step=None, max_depth=None, max_leaves=None,\n",
       "                min_child_weight=None, missing=nan, monotone_constraints=None,\n",
       "                multi_strategy=None, n_estimators=None, n_jobs=None,\n",
       "                num_parallel_tree=None, random_state=None, ...),\n",
       "  StandardScaler(),\n",
       "  [{'feat_selection__k': 15},\n",
       "   {'feat_selection__k': 16},\n",
       "   {'feat_selection__k': 17},\n",
       "   {'feat_selection__k': 18},\n",
       "   {'feat_selection__k': 19},\n",
       "   {'feat_selection__k': 20},\n",
       "   {'feat_selection__k': 21},\n",
       "   {'feat_selection__k': 22},\n",
       "   {'feat_selection__k': 23},\n",
       "   {'feat_selection__k': 24},\n",
       "   {'feat_selection__k': 25},\n",
       "   {'feat_selection__k': 26},\n",
       "   {'feat_selection__k': 27},\n",
       "   {'feat_selection__k': 28},\n",
       "   {'feat_selection__k': 29}],\n",
       "  array([0.74033609, 0.76263162, 0.75943751, 0.7608109 , 0.76798519,\n",
       "         0.76625662, 0.76056854, 0.76708719, 0.78231869, 0.76835208,\n",
       "         0.77070503, 0.77136727, 0.77509787, 0.77375227, 0.77695423])],\n",
       " [SVC(),\n",
       "  StandardScaler(),\n",
       "  [{'feat_selection__k': 15},\n",
       "   {'feat_selection__k': 16},\n",
       "   {'feat_selection__k': 17},\n",
       "   {'feat_selection__k': 18},\n",
       "   {'feat_selection__k': 19},\n",
       "   {'feat_selection__k': 20},\n",
       "   {'feat_selection__k': 21},\n",
       "   {'feat_selection__k': 22},\n",
       "   {'feat_selection__k': 23},\n",
       "   {'feat_selection__k': 24},\n",
       "   {'feat_selection__k': 25},\n",
       "   {'feat_selection__k': 26},\n",
       "   {'feat_selection__k': 27},\n",
       "   {'feat_selection__k': 28},\n",
       "   {'feat_selection__k': 29}],\n",
       "  array([0.73880853, 0.74198619, 0.73209055, 0.73661399, 0.73985855,\n",
       "         0.73731636, 0.74458794, 0.73060689, 0.75302467, 0.7567753 ,\n",
       "         0.74514534, 0.76394425, 0.75398976, 0.75961917, 0.74828838])]]"
      ]
     },
     "execution_count": 35,
     "metadata": {},
     "output_type": "execute_result"
    }
   ],
   "source": [
    "lstresults"
   ]
  },
  {
   "cell_type": "code",
   "execution_count": 36,
   "id": "ad7f4b14-7ae6-4cf6-999b-ae09cdc77a72",
   "metadata": {},
   "outputs": [],
   "source": [
    "res = pd.DataFrame(lstresults)\n",
    "res = res.explode([2,3])"
   ]
  },
  {
   "cell_type": "code",
   "execution_count": 37,
   "id": "0177a9ed-f4b4-4cd7-af6a-9e7d60ee9422",
   "metadata": {},
   "outputs": [
    {
     "data": {
      "text/html": [
       "<div>\n",
       "<style scoped>\n",
       "    .dataframe tbody tr th:only-of-type {\n",
       "        vertical-align: middle;\n",
       "    }\n",
       "\n",
       "    .dataframe tbody tr th {\n",
       "        vertical-align: top;\n",
       "    }\n",
       "\n",
       "    .dataframe thead th {\n",
       "        text-align: right;\n",
       "    }\n",
       "</style>\n",
       "<table border=\"1\" class=\"dataframe\">\n",
       "  <thead>\n",
       "    <tr style=\"text-align: right;\">\n",
       "      <th></th>\n",
       "      <th>0</th>\n",
       "      <th>1</th>\n",
       "      <th>2</th>\n",
       "      <th>3</th>\n",
       "    </tr>\n",
       "  </thead>\n",
       "  <tbody>\n",
       "    <tr>\n",
       "      <th>0</th>\n",
       "      <td>RandomForestClassifier(class_weight='balanced')</td>\n",
       "      <td>RobustScaler()</td>\n",
       "      <td>{'feat_selection__k': 15}</td>\n",
       "      <td>0.758959</td>\n",
       "    </tr>\n",
       "    <tr>\n",
       "      <th>0</th>\n",
       "      <td>RandomForestClassifier(class_weight='balanced')</td>\n",
       "      <td>RobustScaler()</td>\n",
       "      <td>{'feat_selection__k': 16}</td>\n",
       "      <td>0.756407</td>\n",
       "    </tr>\n",
       "    <tr>\n",
       "      <th>0</th>\n",
       "      <td>RandomForestClassifier(class_weight='balanced')</td>\n",
       "      <td>RobustScaler()</td>\n",
       "      <td>{'feat_selection__k': 17}</td>\n",
       "      <td>0.756978</td>\n",
       "    </tr>\n",
       "    <tr>\n",
       "      <th>0</th>\n",
       "      <td>RandomForestClassifier(class_weight='balanced')</td>\n",
       "      <td>RobustScaler()</td>\n",
       "      <td>{'feat_selection__k': 18}</td>\n",
       "      <td>0.772746</td>\n",
       "    </tr>\n",
       "    <tr>\n",
       "      <th>0</th>\n",
       "      <td>RandomForestClassifier(class_weight='balanced')</td>\n",
       "      <td>RobustScaler()</td>\n",
       "      <td>{'feat_selection__k': 19}</td>\n",
       "      <td>0.767661</td>\n",
       "    </tr>\n",
       "    <tr>\n",
       "      <th>...</th>\n",
       "      <td>...</td>\n",
       "      <td>...</td>\n",
       "      <td>...</td>\n",
       "      <td>...</td>\n",
       "    </tr>\n",
       "    <tr>\n",
       "      <th>8</th>\n",
       "      <td>SVC()</td>\n",
       "      <td>StandardScaler()</td>\n",
       "      <td>{'feat_selection__k': 25}</td>\n",
       "      <td>0.745145</td>\n",
       "    </tr>\n",
       "    <tr>\n",
       "      <th>8</th>\n",
       "      <td>SVC()</td>\n",
       "      <td>StandardScaler()</td>\n",
       "      <td>{'feat_selection__k': 26}</td>\n",
       "      <td>0.763944</td>\n",
       "    </tr>\n",
       "    <tr>\n",
       "      <th>8</th>\n",
       "      <td>SVC()</td>\n",
       "      <td>StandardScaler()</td>\n",
       "      <td>{'feat_selection__k': 27}</td>\n",
       "      <td>0.75399</td>\n",
       "    </tr>\n",
       "    <tr>\n",
       "      <th>8</th>\n",
       "      <td>SVC()</td>\n",
       "      <td>StandardScaler()</td>\n",
       "      <td>{'feat_selection__k': 28}</td>\n",
       "      <td>0.759619</td>\n",
       "    </tr>\n",
       "    <tr>\n",
       "      <th>8</th>\n",
       "      <td>SVC()</td>\n",
       "      <td>StandardScaler()</td>\n",
       "      <td>{'feat_selection__k': 29}</td>\n",
       "      <td>0.748288</td>\n",
       "    </tr>\n",
       "  </tbody>\n",
       "</table>\n",
       "<p>135 rows × 4 columns</p>\n",
       "</div>"
      ],
      "text/plain": [
       "                                                  0                 1  \\\n",
       "0   RandomForestClassifier(class_weight='balanced')    RobustScaler()   \n",
       "0   RandomForestClassifier(class_weight='balanced')    RobustScaler()   \n",
       "0   RandomForestClassifier(class_weight='balanced')    RobustScaler()   \n",
       "0   RandomForestClassifier(class_weight='balanced')    RobustScaler()   \n",
       "0   RandomForestClassifier(class_weight='balanced')    RobustScaler()   \n",
       "..                                              ...               ...   \n",
       "8                                             SVC()  StandardScaler()   \n",
       "8                                             SVC()  StandardScaler()   \n",
       "8                                             SVC()  StandardScaler()   \n",
       "8                                             SVC()  StandardScaler()   \n",
       "8                                             SVC()  StandardScaler()   \n",
       "\n",
       "                            2         3  \n",
       "0   {'feat_selection__k': 15}  0.758959  \n",
       "0   {'feat_selection__k': 16}  0.756407  \n",
       "0   {'feat_selection__k': 17}  0.756978  \n",
       "0   {'feat_selection__k': 18}  0.772746  \n",
       "0   {'feat_selection__k': 19}  0.767661  \n",
       "..                        ...       ...  \n",
       "8   {'feat_selection__k': 25}  0.745145  \n",
       "8   {'feat_selection__k': 26}  0.763944  \n",
       "8   {'feat_selection__k': 27}   0.75399  \n",
       "8   {'feat_selection__k': 28}  0.759619  \n",
       "8   {'feat_selection__k': 29}  0.748288  \n",
       "\n",
       "[135 rows x 4 columns]"
      ]
     },
     "execution_count": 37,
     "metadata": {},
     "output_type": "execute_result"
    }
   ],
   "source": [
    "res"
   ]
  },
  {
   "cell_type": "code",
   "execution_count": 38,
   "id": "bce97e1c-ca3f-4fe3-b4bb-c7641a95c572",
   "metadata": {},
   "outputs": [
    {
     "data": {
      "text/html": [
       "<div>\n",
       "<style scoped>\n",
       "    .dataframe tbody tr th:only-of-type {\n",
       "        vertical-align: middle;\n",
       "    }\n",
       "\n",
       "    .dataframe tbody tr th {\n",
       "        vertical-align: top;\n",
       "    }\n",
       "\n",
       "    .dataframe thead th {\n",
       "        text-align: right;\n",
       "    }\n",
       "</style>\n",
       "<table border=\"1\" class=\"dataframe\">\n",
       "  <thead>\n",
       "    <tr style=\"text-align: right;\">\n",
       "      <th></th>\n",
       "      <th>0</th>\n",
       "      <th>1</th>\n",
       "      <th>2</th>\n",
       "      <th>3</th>\n",
       "    </tr>\n",
       "  </thead>\n",
       "  <tbody>\n",
       "    <tr>\n",
       "      <th>0</th>\n",
       "      <td>RandomForestClassifier(class_weight='balanced')</td>\n",
       "      <td>RobustScaler()</td>\n",
       "      <td>{'feat_selection__k': 29}</td>\n",
       "      <td>0.785251</td>\n",
       "    </tr>\n",
       "    <tr>\n",
       "      <th>3</th>\n",
       "      <td>RandomForestClassifier(class_weight='balanced')</td>\n",
       "      <td>MinMaxScaler()</td>\n",
       "      <td>{'feat_selection__k': 26}</td>\n",
       "      <td>0.783838</td>\n",
       "    </tr>\n",
       "    <tr>\n",
       "      <th>7</th>\n",
       "      <td>XGBClassifier(base_score=None, booster=None, c...</td>\n",
       "      <td>StandardScaler()</td>\n",
       "      <td>{'feat_selection__k': 23}</td>\n",
       "      <td>0.782319</td>\n",
       "    </tr>\n",
       "    <tr>\n",
       "      <th>6</th>\n",
       "      <td>RandomForestClassifier(class_weight='balanced')</td>\n",
       "      <td>StandardScaler()</td>\n",
       "      <td>{'feat_selection__k': 27}</td>\n",
       "      <td>0.781232</td>\n",
       "    </tr>\n",
       "    <tr>\n",
       "      <th>6</th>\n",
       "      <td>RandomForestClassifier(class_weight='balanced')</td>\n",
       "      <td>StandardScaler()</td>\n",
       "      <td>{'feat_selection__k': 22}</td>\n",
       "      <td>0.778772</td>\n",
       "    </tr>\n",
       "    <tr>\n",
       "      <th>...</th>\n",
       "      <td>...</td>\n",
       "      <td>...</td>\n",
       "      <td>...</td>\n",
       "      <td>...</td>\n",
       "    </tr>\n",
       "    <tr>\n",
       "      <th>5</th>\n",
       "      <td>SVC()</td>\n",
       "      <td>MinMaxScaler()</td>\n",
       "      <td>{'feat_selection__k': 20}</td>\n",
       "      <td>0.690746</td>\n",
       "    </tr>\n",
       "    <tr>\n",
       "      <th>5</th>\n",
       "      <td>SVC()</td>\n",
       "      <td>MinMaxScaler()</td>\n",
       "      <td>{'feat_selection__k': 23}</td>\n",
       "      <td>0.690698</td>\n",
       "    </tr>\n",
       "    <tr>\n",
       "      <th>5</th>\n",
       "      <td>SVC()</td>\n",
       "      <td>MinMaxScaler()</td>\n",
       "      <td>{'feat_selection__k': 15}</td>\n",
       "      <td>0.690631</td>\n",
       "    </tr>\n",
       "    <tr>\n",
       "      <th>5</th>\n",
       "      <td>SVC()</td>\n",
       "      <td>MinMaxScaler()</td>\n",
       "      <td>{'feat_selection__k': 18}</td>\n",
       "      <td>0.687665</td>\n",
       "    </tr>\n",
       "    <tr>\n",
       "      <th>2</th>\n",
       "      <td>SVC()</td>\n",
       "      <td>RobustScaler()</td>\n",
       "      <td>{'feat_selection__k': 29}</td>\n",
       "      <td>0.678794</td>\n",
       "    </tr>\n",
       "  </tbody>\n",
       "</table>\n",
       "<p>135 rows × 4 columns</p>\n",
       "</div>"
      ],
      "text/plain": [
       "                                                    0                 1  \\\n",
       "0     RandomForestClassifier(class_weight='balanced')    RobustScaler()   \n",
       "3     RandomForestClassifier(class_weight='balanced')    MinMaxScaler()   \n",
       "7   XGBClassifier(base_score=None, booster=None, c...  StandardScaler()   \n",
       "6     RandomForestClassifier(class_weight='balanced')  StandardScaler()   \n",
       "6     RandomForestClassifier(class_weight='balanced')  StandardScaler()   \n",
       "..                                                ...               ...   \n",
       "5                                               SVC()    MinMaxScaler()   \n",
       "5                                               SVC()    MinMaxScaler()   \n",
       "5                                               SVC()    MinMaxScaler()   \n",
       "5                                               SVC()    MinMaxScaler()   \n",
       "2                                               SVC()    RobustScaler()   \n",
       "\n",
       "                            2         3  \n",
       "0   {'feat_selection__k': 29}  0.785251  \n",
       "3   {'feat_selection__k': 26}  0.783838  \n",
       "7   {'feat_selection__k': 23}  0.782319  \n",
       "6   {'feat_selection__k': 27}  0.781232  \n",
       "6   {'feat_selection__k': 22}  0.778772  \n",
       "..                        ...       ...  \n",
       "5   {'feat_selection__k': 20}  0.690746  \n",
       "5   {'feat_selection__k': 23}  0.690698  \n",
       "5   {'feat_selection__k': 15}  0.690631  \n",
       "5   {'feat_selection__k': 18}  0.687665  \n",
       "2   {'feat_selection__k': 29}  0.678794  \n",
       "\n",
       "[135 rows x 4 columns]"
      ]
     },
     "execution_count": 38,
     "metadata": {},
     "output_type": "execute_result"
    }
   ],
   "source": [
    "res.sort_values(3,ascending = False)"
   ]
  },
  {
   "cell_type": "code",
   "execution_count": 47,
   "id": "a7148c36-19c4-4419-9f03-cdefadc567a9",
   "metadata": {},
   "outputs": [
    {
     "name": "stdout",
     "output_type": "stream",
     "text": [
      " - balanced accuracy: 0.76\n",
      " - macro f1: 0.77\n"
     ]
    }
   ],
   "source": [
    "pipe = Pipeline([\n",
    "  ('scaler',RobustScaler()),\n",
    "  ('feat_select', SelectKBest(mutual_info_classif,k=29)),\n",
    "  ('classifier', RandomForestClassifier(random_state=42))\n",
    "])\n",
    "\n",
    "pipe.fit(X_train, y_train)\n",
    "predictions = pipe.predict(X_test)\n",
    "print(' - balanced accuracy:', round(balanced_accuracy_score(y_test, predictions),2))\n",
    "print(' - macro f1:', round(f1_score(y_test, predictions, average='macro'),2))"
   ]
  },
  {
   "cell_type": "code",
   "execution_count": 50,
   "id": "315f3a02-020e-4839-b9ff-a5b6626331d1",
   "metadata": {},
   "outputs": [],
   "source": [
    "X_new = SelectKBest(score_func= mutual_info_classif, k=29).fit(X_train,y_train)"
   ]
  },
  {
   "cell_type": "code",
   "execution_count": 51,
   "id": "0d42ecb6-0541-465e-aebd-479fe880b9b7",
   "metadata": {},
   "outputs": [],
   "source": [
    "mask = X_new.get_support(indices=True)"
   ]
  },
  {
   "cell_type": "code",
   "execution_count": 52,
   "id": "bb5a74ad-91f2-4aa7-a6ca-17eb240e73aa",
   "metadata": {},
   "outputs": [
    {
     "data": {
      "text/plain": [
       "array([ 0,  5,  8,  9, 11, 12, 13, 14, 15, 17, 19, 26, 27, 31, 33, 35, 45,\n",
       "       46, 47, 49], dtype=int64)"
      ]
     },
     "execution_count": 52,
     "metadata": {},
     "output_type": "execute_result"
    }
   ],
   "source": [
    "mask"
   ]
  },
  {
   "cell_type": "code",
   "execution_count": 63,
   "id": "f1d5acbf-6d62-4b09-8296-3c3ef77b052a",
   "metadata": {},
   "outputs": [],
   "source": [
    "lstcolumns = X_train.columns"
   ]
  },
  {
   "cell_type": "code",
   "execution_count": 64,
   "id": "8b8d31d8-af82-4ba3-bed6-04fe367061e9",
   "metadata": {},
   "outputs": [],
   "source": [
    "dic = {i:lstcolumns[i] for i in range(len(lstcolumns))}"
   ]
  },
  {
   "cell_type": "code",
   "execution_count": 65,
   "id": "6db1d9cf-f622-4945-bdc3-5aa9203eb390",
   "metadata": {},
   "outputs": [
    {
     "data": {
      "text/plain": [
       "{0: 'lead_time',\n",
       " 1: 'arrival_date_week_number',\n",
       " 2: 'arrival_date_day_of_month',\n",
       " 3: 'stays_in_weekend_nights',\n",
       " 4: 'stays_in_week_nights',\n",
       " 5: 'adults',\n",
       " 6: 'children',\n",
       " 7: 'babies',\n",
       " 8: 'is_repeated_guest',\n",
       " 9: 'previous_cancellations',\n",
       " 10: 'previous_bookings_not_canceled',\n",
       " 11: 'booking_changes',\n",
       " 12: 'days_in_waiting_list',\n",
       " 13: 'adr',\n",
       " 14: 'required_car_parking_spaces',\n",
       " 15: 'total_of_special_requests',\n",
       " 16: 'hotel_City Hotel',\n",
       " 17: 'hotel_Resort Hotel',\n",
       " 18: 'meal_BB',\n",
       " 19: 'meal_FB',\n",
       " 20: 'meal_HB',\n",
       " 21: 'meal_SC',\n",
       " 22: 'meal_Undefined',\n",
       " 23: 'market_segment_Aviation',\n",
       " 24: 'market_segment_Complementary',\n",
       " 25: 'market_segment_Corporate',\n",
       " 26: 'market_segment_Direct',\n",
       " 27: 'market_segment_Groups',\n",
       " 28: 'market_segment_Offline TA/TO',\n",
       " 29: 'market_segment_Online TA',\n",
       " 30: 'distribution_channel_Corporate',\n",
       " 31: 'distribution_channel_Direct',\n",
       " 32: 'distribution_channel_GDS',\n",
       " 33: 'distribution_channel_TA/TO',\n",
       " 34: 'distribution_channel_Undefined',\n",
       " 35: 'reserved_room_type_A',\n",
       " 36: 'reserved_room_type_B',\n",
       " 37: 'reserved_room_type_C',\n",
       " 38: 'reserved_room_type_D',\n",
       " 39: 'reserved_room_type_E',\n",
       " 40: 'reserved_room_type_F',\n",
       " 41: 'reserved_room_type_G',\n",
       " 42: 'reserved_room_type_H',\n",
       " 43: 'reserved_room_type_L',\n",
       " 44: 'reserved_room_type_P',\n",
       " 45: 'deposit_type_No Deposit',\n",
       " 46: 'deposit_type_Non Refund',\n",
       " 47: 'deposit_type_Refundable',\n",
       " 48: 'customer_type_Contract',\n",
       " 49: 'customer_type_Group',\n",
       " 50: 'customer_type_Transient',\n",
       " 51: 'customer_type_Transient-Party'}"
      ]
     },
     "execution_count": 65,
     "metadata": {},
     "output_type": "execute_result"
    }
   ],
   "source": [
    "dic"
   ]
  },
  {
   "cell_type": "code",
   "execution_count": 66,
   "id": "94b29754-32dd-41ce-a4c7-0b3949eb53b5",
   "metadata": {},
   "outputs": [],
   "source": [
    "importantkbest = [dic[i] for i in list(mask)]"
   ]
  },
  {
   "cell_type": "code",
   "execution_count": 67,
   "id": "0d3e4eee-510c-4927-8e6a-8d7853b5c88a",
   "metadata": {},
   "outputs": [
    {
     "data": {
      "text/plain": [
       "['lead_time',\n",
       " 'adults',\n",
       " 'is_repeated_guest',\n",
       " 'previous_cancellations',\n",
       " 'booking_changes',\n",
       " 'days_in_waiting_list',\n",
       " 'adr',\n",
       " 'required_car_parking_spaces',\n",
       " 'total_of_special_requests',\n",
       " 'hotel_Resort Hotel',\n",
       " 'meal_FB',\n",
       " 'market_segment_Direct',\n",
       " 'market_segment_Groups',\n",
       " 'distribution_channel_Direct',\n",
       " 'distribution_channel_TA/TO',\n",
       " 'reserved_room_type_A',\n",
       " 'deposit_type_No Deposit',\n",
       " 'deposit_type_Non Refund',\n",
       " 'deposit_type_Refundable',\n",
       " 'customer_type_Group']"
      ]
     },
     "execution_count": 67,
     "metadata": {},
     "output_type": "execute_result"
    }
   ],
   "source": [
    "importantkbest"
   ]
  },
  {
   "cell_type": "code",
   "execution_count": null,
   "id": "2e55395f-ee5e-4521-8fac-5471fbc16fb9",
   "metadata": {},
   "outputs": [],
   "source": []
  },
  {
   "cell_type": "code",
   "execution_count": null,
   "id": "6e9e07b3-0faf-4078-b24e-3d1fccdd846a",
   "metadata": {},
   "outputs": [],
   "source": []
  },
  {
   "cell_type": "code",
   "execution_count": 12,
   "id": "c08fdd15-41e7-4d00-880f-f38be242a39d",
   "metadata": {},
   "outputs": [
    {
     "ename": "NameError",
     "evalue": "name 'X_train' is not defined",
     "output_type": "error",
     "traceback": [
      "\u001b[1;31m---------------------------------------------------------------------------\u001b[0m",
      "\u001b[1;31mNameError\u001b[0m                                 Traceback (most recent call last)",
      "Cell \u001b[1;32mIn[12], line 1\u001b[0m\n\u001b[1;32m----> 1\u001b[0m importantkbest \u001b[38;5;241m=\u001b[39m \u001b[38;5;28mlist\u001b[39m(\u001b[43mX_train\u001b[49m\u001b[38;5;241m.\u001b[39mcolumns)\n",
      "\u001b[1;31mNameError\u001b[0m: name 'X_train' is not defined"
     ]
    }
   ],
   "source": [
    "importantkbest = list(X_train.columns)"
   ]
  },
  {
   "cell_type": "code",
   "execution_count": null,
   "id": "6557c550-0372-40d5-8b1a-1978a155b6ec",
   "metadata": {},
   "outputs": [],
   "source": []
  },
  {
   "cell_type": "markdown",
   "id": "08df5f94-ef26-4e7d-86ef-efabec2eab2f",
   "metadata": {},
   "source": [
    "# MRMR"
   ]
  },
  {
   "cell_type": "code",
   "execution_count": 40,
   "id": "7c1d3da5-f77f-49b2-aea7-325e2c5384d3",
   "metadata": {},
   "outputs": [
    {
     "data": {
      "text/plain": [
       "Index(['lead_time', 'arrival_date_week_number', 'arrival_date_day_of_month',\n",
       "       'stays_in_weekend_nights', 'stays_in_week_nights', 'adults', 'children',\n",
       "       'babies', 'is_repeated_guest', 'previous_cancellations',\n",
       "       'previous_bookings_not_canceled', 'booking_changes',\n",
       "       'days_in_waiting_list', 'adr', 'required_car_parking_spaces',\n",
       "       'total_of_special_requests', 'hotel_City Hotel', 'hotel_Resort Hotel',\n",
       "       'meal_BB', 'meal_FB', 'meal_HB', 'meal_SC', 'meal_Undefined',\n",
       "       'market_segment_Aviation', 'market_segment_Complementary',\n",
       "       'market_segment_Corporate', 'market_segment_Direct',\n",
       "       'market_segment_Groups', 'market_segment_Offline TA/TO',\n",
       "       'market_segment_Online TA', 'distribution_channel_Corporate',\n",
       "       'distribution_channel_Direct', 'distribution_channel_GDS',\n",
       "       'distribution_channel_TA/TO', 'distribution_channel_Undefined',\n",
       "       'reserved_room_type_A', 'reserved_room_type_B', 'reserved_room_type_C',\n",
       "       'reserved_room_type_D', 'reserved_room_type_E', 'reserved_room_type_F',\n",
       "       'reserved_room_type_G', 'reserved_room_type_H', 'reserved_room_type_L',\n",
       "       'reserved_room_type_P', 'deposit_type_No Deposit',\n",
       "       'deposit_type_Non Refund', 'deposit_type_Refundable',\n",
       "       'customer_type_Contract', 'customer_type_Group',\n",
       "       'customer_type_Transient', 'customer_type_Transient-Party',\n",
       "       'is_canceled'],\n",
       "      dtype='object')"
      ]
     },
     "execution_count": 40,
     "metadata": {},
     "output_type": "execute_result"
    }
   ],
   "source": [
    "df.columns"
   ]
  },
  {
   "cell_type": "code",
   "execution_count": 41,
   "id": "c38f42fd-205c-4519-9a81-789e1e481ecf",
   "metadata": {},
   "outputs": [],
   "source": [
    "classifiers = [\n",
    "    RandomForestClassifier(class_weight='balanced'),\n",
    "    xgb.XGBClassifier(),\n",
    "    SVC()]"
   ]
  },
  {
   "cell_type": "code",
   "execution_count": 42,
   "id": "df3da9c6-a51b-48f2-a554-875c503035ab",
   "metadata": {},
   "outputs": [
    {
     "name": "stderr",
     "output_type": "stream",
     "text": [
      "100%|████████████████████████████████████████████████████████████████████████████████████| 5/5 [00:00<00:00, 26.72it/s]\n"
     ]
    },
    {
     "name": "stdout",
     "output_type": "stream",
     "text": [
      "['deposit_type_No Deposit', 'required_car_parking_spaces', 'deposit_type_Non Refund', 'lead_time', 'total_of_special_requests']\n"
     ]
    },
    {
     "name": "stderr",
     "output_type": "stream",
     "text": [
      "100%|████████████████████████████████████████████████████████████████████████████████████| 6/6 [00:00<00:00, 35.36it/s]\n"
     ]
    },
    {
     "name": "stdout",
     "output_type": "stream",
     "text": [
      "['deposit_type_No Deposit', 'required_car_parking_spaces', 'deposit_type_Non Refund', 'lead_time', 'total_of_special_requests', 'distribution_channel_TA/TO']\n"
     ]
    },
    {
     "name": "stderr",
     "output_type": "stream",
     "text": [
      "100%|████████████████████████████████████████████████████████████████████████████████████| 7/7 [00:00<00:00, 36.75it/s]\n"
     ]
    },
    {
     "name": "stdout",
     "output_type": "stream",
     "text": [
      "['deposit_type_No Deposit', 'required_car_parking_spaces', 'deposit_type_Non Refund', 'lead_time', 'total_of_special_requests', 'distribution_channel_TA/TO', 'booking_changes']\n"
     ]
    },
    {
     "name": "stderr",
     "output_type": "stream",
     "text": [
      "100%|████████████████████████████████████████████████████████████████████████████████████| 8/8 [00:00<00:00, 33.86it/s]\n"
     ]
    },
    {
     "name": "stdout",
     "output_type": "stream",
     "text": [
      "['deposit_type_No Deposit', 'required_car_parking_spaces', 'deposit_type_Non Refund', 'lead_time', 'total_of_special_requests', 'distribution_channel_TA/TO', 'booking_changes', 'market_segment_Groups']\n"
     ]
    },
    {
     "name": "stderr",
     "output_type": "stream",
     "text": [
      "100%|████████████████████████████████████████████████████████████████████████████████████| 9/9 [00:00<00:00, 35.71it/s]\n"
     ]
    },
    {
     "name": "stdout",
     "output_type": "stream",
     "text": [
      "['deposit_type_No Deposit', 'required_car_parking_spaces', 'deposit_type_Non Refund', 'lead_time', 'total_of_special_requests', 'distribution_channel_TA/TO', 'booking_changes', 'market_segment_Groups', 'distribution_channel_Direct']\n"
     ]
    },
    {
     "name": "stderr",
     "output_type": "stream",
     "text": [
      "100%|██████████████████████████████████████████████████████████████████████████████████| 10/10 [00:00<00:00, 31.84it/s]\n"
     ]
    },
    {
     "name": "stdout",
     "output_type": "stream",
     "text": [
      "['deposit_type_No Deposit', 'required_car_parking_spaces', 'deposit_type_Non Refund', 'lead_time', 'total_of_special_requests', 'distribution_channel_TA/TO', 'booking_changes', 'market_segment_Groups', 'distribution_channel_Direct', 'previous_cancellations']\n"
     ]
    },
    {
     "name": "stderr",
     "output_type": "stream",
     "text": [
      "100%|██████████████████████████████████████████████████████████████████████████████████| 11/11 [00:00<00:00, 33.20it/s]\n"
     ]
    },
    {
     "name": "stdout",
     "output_type": "stream",
     "text": [
      "['deposit_type_No Deposit', 'required_car_parking_spaces', 'deposit_type_Non Refund', 'lead_time', 'total_of_special_requests', 'distribution_channel_TA/TO', 'booking_changes', 'market_segment_Groups', 'distribution_channel_Direct', 'previous_cancellations', 'hotel_City Hotel']\n"
     ]
    },
    {
     "name": "stderr",
     "output_type": "stream",
     "text": [
      "100%|██████████████████████████████████████████████████████████████████████████████████| 12/12 [00:00<00:00, 34.44it/s]\n"
     ]
    },
    {
     "name": "stdout",
     "output_type": "stream",
     "text": [
      "['deposit_type_No Deposit', 'required_car_parking_spaces', 'deposit_type_Non Refund', 'lead_time', 'total_of_special_requests', 'distribution_channel_TA/TO', 'booking_changes', 'market_segment_Groups', 'distribution_channel_Direct', 'previous_cancellations', 'hotel_City Hotel', 'market_segment_Direct']\n"
     ]
    },
    {
     "name": "stderr",
     "output_type": "stream",
     "text": [
      "100%|██████████████████████████████████████████████████████████████████████████████████| 13/13 [00:00<00:00, 34.43it/s]\n"
     ]
    },
    {
     "name": "stdout",
     "output_type": "stream",
     "text": [
      "['deposit_type_No Deposit', 'required_car_parking_spaces', 'deposit_type_Non Refund', 'lead_time', 'total_of_special_requests', 'distribution_channel_TA/TO', 'booking_changes', 'market_segment_Groups', 'distribution_channel_Direct', 'previous_cancellations', 'hotel_City Hotel', 'market_segment_Direct', 'customer_type_Transient-Party']\n"
     ]
    },
    {
     "name": "stderr",
     "output_type": "stream",
     "text": [
      "100%|██████████████████████████████████████████████████████████████████████████████████| 14/14 [00:00<00:00, 34.18it/s]\n"
     ]
    },
    {
     "name": "stdout",
     "output_type": "stream",
     "text": [
      "['deposit_type_No Deposit', 'required_car_parking_spaces', 'deposit_type_Non Refund', 'lead_time', 'total_of_special_requests', 'distribution_channel_TA/TO', 'booking_changes', 'market_segment_Groups', 'distribution_channel_Direct', 'previous_cancellations', 'hotel_City Hotel', 'market_segment_Direct', 'customer_type_Transient-Party', 'is_repeated_guest']\n"
     ]
    },
    {
     "name": "stderr",
     "output_type": "stream",
     "text": [
      "100%|██████████████████████████████████████████████████████████████████████████████████| 15/15 [00:00<00:00, 34.14it/s]\n"
     ]
    },
    {
     "name": "stdout",
     "output_type": "stream",
     "text": [
      "['deposit_type_No Deposit', 'required_car_parking_spaces', 'deposit_type_Non Refund', 'lead_time', 'total_of_special_requests', 'distribution_channel_TA/TO', 'booking_changes', 'market_segment_Groups', 'distribution_channel_Direct', 'previous_cancellations', 'hotel_City Hotel', 'market_segment_Direct', 'customer_type_Transient-Party', 'is_repeated_guest', 'reserved_room_type_D']\n"
     ]
    },
    {
     "name": "stderr",
     "output_type": "stream",
     "text": [
      "100%|██████████████████████████████████████████████████████████████████████████████████| 16/16 [00:00<00:00, 33.80it/s]\n"
     ]
    },
    {
     "name": "stdout",
     "output_type": "stream",
     "text": [
      "['deposit_type_No Deposit', 'required_car_parking_spaces', 'deposit_type_Non Refund', 'lead_time', 'total_of_special_requests', 'distribution_channel_TA/TO', 'booking_changes', 'market_segment_Groups', 'distribution_channel_Direct', 'previous_cancellations', 'hotel_City Hotel', 'market_segment_Direct', 'customer_type_Transient-Party', 'is_repeated_guest', 'reserved_room_type_D', 'arrival_date_day_of_month']\n"
     ]
    },
    {
     "name": "stderr",
     "output_type": "stream",
     "text": [
      "100%|██████████████████████████████████████████████████████████████████████████████████| 17/17 [00:00<00:00, 30.97it/s]\n"
     ]
    },
    {
     "name": "stdout",
     "output_type": "stream",
     "text": [
      "['deposit_type_No Deposit', 'required_car_parking_spaces', 'deposit_type_Non Refund', 'lead_time', 'total_of_special_requests', 'distribution_channel_TA/TO', 'booking_changes', 'market_segment_Groups', 'distribution_channel_Direct', 'previous_cancellations', 'hotel_City Hotel', 'market_segment_Direct', 'customer_type_Transient-Party', 'is_repeated_guest', 'reserved_room_type_D', 'arrival_date_day_of_month', 'hotel_Resort Hotel']\n"
     ]
    },
    {
     "name": "stderr",
     "output_type": "stream",
     "text": [
      "100%|██████████████████████████████████████████████████████████████████████████████████| 18/18 [00:00<00:00, 33.79it/s]\n"
     ]
    },
    {
     "name": "stdout",
     "output_type": "stream",
     "text": [
      "['deposit_type_No Deposit', 'required_car_parking_spaces', 'deposit_type_Non Refund', 'lead_time', 'total_of_special_requests', 'distribution_channel_TA/TO', 'booking_changes', 'market_segment_Groups', 'distribution_channel_Direct', 'previous_cancellations', 'hotel_City Hotel', 'market_segment_Direct', 'customer_type_Transient-Party', 'is_repeated_guest', 'reserved_room_type_D', 'arrival_date_day_of_month', 'hotel_Resort Hotel', 'customer_type_Transient']\n"
     ]
    },
    {
     "name": "stderr",
     "output_type": "stream",
     "text": [
      "100%|██████████████████████████████████████████████████████████████████████████████████| 19/19 [00:00<00:00, 33.62it/s]\n"
     ]
    },
    {
     "name": "stdout",
     "output_type": "stream",
     "text": [
      "['deposit_type_No Deposit', 'required_car_parking_spaces', 'deposit_type_Non Refund', 'lead_time', 'total_of_special_requests', 'distribution_channel_TA/TO', 'booking_changes', 'market_segment_Groups', 'distribution_channel_Direct', 'previous_cancellations', 'hotel_City Hotel', 'market_segment_Direct', 'customer_type_Transient-Party', 'is_repeated_guest', 'reserved_room_type_D', 'arrival_date_day_of_month', 'hotel_Resort Hotel', 'customer_type_Transient', 'meal_FB']\n"
     ]
    },
    {
     "name": "stderr",
     "output_type": "stream",
     "text": [
      "100%|██████████████████████████████████████████████████████████████████████████████████| 20/20 [00:00<00:00, 33.67it/s]\n"
     ]
    },
    {
     "name": "stdout",
     "output_type": "stream",
     "text": [
      "['deposit_type_No Deposit', 'required_car_parking_spaces', 'deposit_type_Non Refund', 'lead_time', 'total_of_special_requests', 'distribution_channel_TA/TO', 'booking_changes', 'market_segment_Groups', 'distribution_channel_Direct', 'previous_cancellations', 'hotel_City Hotel', 'market_segment_Direct', 'customer_type_Transient-Party', 'is_repeated_guest', 'reserved_room_type_D', 'arrival_date_day_of_month', 'hotel_Resort Hotel', 'customer_type_Transient', 'meal_FB', 'days_in_waiting_list']\n"
     ]
    },
    {
     "name": "stderr",
     "output_type": "stream",
     "text": [
      "100%|██████████████████████████████████████████████████████████████████████████████████| 21/21 [00:00<00:00, 33.49it/s]\n"
     ]
    },
    {
     "name": "stdout",
     "output_type": "stream",
     "text": [
      "['deposit_type_No Deposit', 'required_car_parking_spaces', 'deposit_type_Non Refund', 'lead_time', 'total_of_special_requests', 'distribution_channel_TA/TO', 'booking_changes', 'market_segment_Groups', 'distribution_channel_Direct', 'previous_cancellations', 'hotel_City Hotel', 'market_segment_Direct', 'customer_type_Transient-Party', 'is_repeated_guest', 'reserved_room_type_D', 'arrival_date_day_of_month', 'hotel_Resort Hotel', 'customer_type_Transient', 'meal_FB', 'days_in_waiting_list', 'market_segment_Corporate']\n"
     ]
    },
    {
     "name": "stderr",
     "output_type": "stream",
     "text": [
      "100%|██████████████████████████████████████████████████████████████████████████████████| 22/22 [00:00<00:00, 33.32it/s]\n"
     ]
    },
    {
     "name": "stdout",
     "output_type": "stream",
     "text": [
      "['deposit_type_No Deposit', 'required_car_parking_spaces', 'deposit_type_Non Refund', 'lead_time', 'total_of_special_requests', 'distribution_channel_TA/TO', 'booking_changes', 'market_segment_Groups', 'distribution_channel_Direct', 'previous_cancellations', 'hotel_City Hotel', 'market_segment_Direct', 'customer_type_Transient-Party', 'is_repeated_guest', 'reserved_room_type_D', 'arrival_date_day_of_month', 'hotel_Resort Hotel', 'customer_type_Transient', 'meal_FB', 'days_in_waiting_list', 'market_segment_Corporate', 'deposit_type_Refundable']\n"
     ]
    },
    {
     "name": "stderr",
     "output_type": "stream",
     "text": [
      "100%|██████████████████████████████████████████████████████████████████████████████████| 23/23 [00:00<00:00, 33.40it/s]\n"
     ]
    },
    {
     "name": "stdout",
     "output_type": "stream",
     "text": [
      "['deposit_type_No Deposit', 'required_car_parking_spaces', 'deposit_type_Non Refund', 'lead_time', 'total_of_special_requests', 'distribution_channel_TA/TO', 'booking_changes', 'market_segment_Groups', 'distribution_channel_Direct', 'previous_cancellations', 'hotel_City Hotel', 'market_segment_Direct', 'customer_type_Transient-Party', 'is_repeated_guest', 'reserved_room_type_D', 'arrival_date_day_of_month', 'hotel_Resort Hotel', 'customer_type_Transient', 'meal_FB', 'days_in_waiting_list', 'market_segment_Corporate', 'deposit_type_Refundable', 'previous_bookings_not_canceled']\n"
     ]
    },
    {
     "name": "stderr",
     "output_type": "stream",
     "text": [
      "100%|██████████████████████████████████████████████████████████████████████████████████| 24/24 [00:00<00:00, 33.23it/s]\n"
     ]
    },
    {
     "name": "stdout",
     "output_type": "stream",
     "text": [
      "['deposit_type_No Deposit', 'required_car_parking_spaces', 'deposit_type_Non Refund', 'lead_time', 'total_of_special_requests', 'distribution_channel_TA/TO', 'booking_changes', 'market_segment_Groups', 'distribution_channel_Direct', 'previous_cancellations', 'hotel_City Hotel', 'market_segment_Direct', 'customer_type_Transient-Party', 'is_repeated_guest', 'reserved_room_type_D', 'arrival_date_day_of_month', 'hotel_Resort Hotel', 'customer_type_Transient', 'meal_FB', 'days_in_waiting_list', 'market_segment_Corporate', 'deposit_type_Refundable', 'previous_bookings_not_canceled', 'market_segment_Complementary']\n"
     ]
    },
    {
     "name": "stderr",
     "output_type": "stream",
     "text": [
      "100%|██████████████████████████████████████████████████████████████████████████████████| 25/25 [00:00<00:00, 32.62it/s]\n"
     ]
    },
    {
     "name": "stdout",
     "output_type": "stream",
     "text": [
      "['deposit_type_No Deposit', 'required_car_parking_spaces', 'deposit_type_Non Refund', 'lead_time', 'total_of_special_requests', 'distribution_channel_TA/TO', 'booking_changes', 'market_segment_Groups', 'distribution_channel_Direct', 'previous_cancellations', 'hotel_City Hotel', 'market_segment_Direct', 'customer_type_Transient-Party', 'is_repeated_guest', 'reserved_room_type_D', 'arrival_date_day_of_month', 'hotel_Resort Hotel', 'customer_type_Transient', 'meal_FB', 'days_in_waiting_list', 'market_segment_Corporate', 'deposit_type_Refundable', 'previous_bookings_not_canceled', 'market_segment_Complementary', 'distribution_channel_Corporate']\n"
     ]
    },
    {
     "name": "stderr",
     "output_type": "stream",
     "text": [
      "100%|██████████████████████████████████████████████████████████████████████████████████| 26/26 [00:00<00:00, 33.04it/s]\n"
     ]
    },
    {
     "name": "stdout",
     "output_type": "stream",
     "text": [
      "['deposit_type_No Deposit', 'required_car_parking_spaces', 'deposit_type_Non Refund', 'lead_time', 'total_of_special_requests', 'distribution_channel_TA/TO', 'booking_changes', 'market_segment_Groups', 'distribution_channel_Direct', 'previous_cancellations', 'hotel_City Hotel', 'market_segment_Direct', 'customer_type_Transient-Party', 'is_repeated_guest', 'reserved_room_type_D', 'arrival_date_day_of_month', 'hotel_Resort Hotel', 'customer_type_Transient', 'meal_FB', 'days_in_waiting_list', 'market_segment_Corporate', 'deposit_type_Refundable', 'previous_bookings_not_canceled', 'market_segment_Complementary', 'distribution_channel_Corporate', 'reserved_room_type_A']\n"
     ]
    },
    {
     "name": "stderr",
     "output_type": "stream",
     "text": [
      "100%|██████████████████████████████████████████████████████████████████████████████████| 27/27 [00:00<00:00, 33.14it/s]\n"
     ]
    },
    {
     "name": "stdout",
     "output_type": "stream",
     "text": [
      "['deposit_type_No Deposit', 'required_car_parking_spaces', 'deposit_type_Non Refund', 'lead_time', 'total_of_special_requests', 'distribution_channel_TA/TO', 'booking_changes', 'market_segment_Groups', 'distribution_channel_Direct', 'previous_cancellations', 'hotel_City Hotel', 'market_segment_Direct', 'customer_type_Transient-Party', 'is_repeated_guest', 'reserved_room_type_D', 'arrival_date_day_of_month', 'hotel_Resort Hotel', 'customer_type_Transient', 'meal_FB', 'days_in_waiting_list', 'market_segment_Corporate', 'deposit_type_Refundable', 'previous_bookings_not_canceled', 'market_segment_Complementary', 'distribution_channel_Corporate', 'reserved_room_type_A', 'adults']\n"
     ]
    },
    {
     "name": "stderr",
     "output_type": "stream",
     "text": [
      "100%|██████████████████████████████████████████████████████████████████████████████████| 28/28 [00:00<00:00, 33.07it/s]\n"
     ]
    },
    {
     "name": "stdout",
     "output_type": "stream",
     "text": [
      "['deposit_type_No Deposit', 'required_car_parking_spaces', 'deposit_type_Non Refund', 'lead_time', 'total_of_special_requests', 'distribution_channel_TA/TO', 'booking_changes', 'market_segment_Groups', 'distribution_channel_Direct', 'previous_cancellations', 'hotel_City Hotel', 'market_segment_Direct', 'customer_type_Transient-Party', 'is_repeated_guest', 'reserved_room_type_D', 'arrival_date_day_of_month', 'hotel_Resort Hotel', 'customer_type_Transient', 'meal_FB', 'days_in_waiting_list', 'market_segment_Corporate', 'deposit_type_Refundable', 'previous_bookings_not_canceled', 'market_segment_Complementary', 'distribution_channel_Corporate', 'reserved_room_type_A', 'adults', 'market_segment_Aviation']\n"
     ]
    },
    {
     "name": "stderr",
     "output_type": "stream",
     "text": [
      "100%|██████████████████████████████████████████████████████████████████████████████████| 29/29 [00:00<00:00, 31.34it/s]\n"
     ]
    },
    {
     "name": "stdout",
     "output_type": "stream",
     "text": [
      "['deposit_type_No Deposit', 'required_car_parking_spaces', 'deposit_type_Non Refund', 'lead_time', 'total_of_special_requests', 'distribution_channel_TA/TO', 'booking_changes', 'market_segment_Groups', 'distribution_channel_Direct', 'previous_cancellations', 'hotel_City Hotel', 'market_segment_Direct', 'customer_type_Transient-Party', 'is_repeated_guest', 'reserved_room_type_D', 'arrival_date_day_of_month', 'hotel_Resort Hotel', 'customer_type_Transient', 'meal_FB', 'days_in_waiting_list', 'market_segment_Corporate', 'deposit_type_Refundable', 'previous_bookings_not_canceled', 'market_segment_Complementary', 'distribution_channel_Corporate', 'reserved_room_type_A', 'adults', 'market_segment_Aviation', 'meal_HB']\n"
     ]
    },
    {
     "name": "stderr",
     "output_type": "stream",
     "text": [
      "100%|████████████████████████████████████████████████████████████████████████████████████| 5/5 [00:00<00:00, 31.48it/s]\n"
     ]
    },
    {
     "name": "stdout",
     "output_type": "stream",
     "text": [
      "['deposit_type_No Deposit', 'required_car_parking_spaces', 'deposit_type_Non Refund', 'lead_time', 'total_of_special_requests']\n"
     ]
    },
    {
     "name": "stderr",
     "output_type": "stream",
     "text": [
      "100%|████████████████████████████████████████████████████████████████████████████████████| 6/6 [00:00<00:00, 35.65it/s]\n"
     ]
    },
    {
     "name": "stdout",
     "output_type": "stream",
     "text": [
      "['deposit_type_No Deposit', 'required_car_parking_spaces', 'deposit_type_Non Refund', 'lead_time', 'total_of_special_requests', 'distribution_channel_TA/TO']\n"
     ]
    },
    {
     "name": "stderr",
     "output_type": "stream",
     "text": [
      "100%|████████████████████████████████████████████████████████████████████████████████████| 7/7 [00:00<00:00, 27.58it/s]\n"
     ]
    },
    {
     "name": "stdout",
     "output_type": "stream",
     "text": [
      "['deposit_type_No Deposit', 'required_car_parking_spaces', 'deposit_type_Non Refund', 'lead_time', 'total_of_special_requests', 'distribution_channel_TA/TO', 'booking_changes']\n"
     ]
    },
    {
     "name": "stderr",
     "output_type": "stream",
     "text": [
      "100%|████████████████████████████████████████████████████████████████████████████████████| 8/8 [00:00<00:00, 29.62it/s]\n"
     ]
    },
    {
     "name": "stdout",
     "output_type": "stream",
     "text": [
      "['deposit_type_No Deposit', 'required_car_parking_spaces', 'deposit_type_Non Refund', 'lead_time', 'total_of_special_requests', 'distribution_channel_TA/TO', 'booking_changes', 'market_segment_Groups']\n"
     ]
    },
    {
     "name": "stderr",
     "output_type": "stream",
     "text": [
      "100%|████████████████████████████████████████████████████████████████████████████████████| 9/9 [00:00<00:00, 35.51it/s]\n"
     ]
    },
    {
     "name": "stdout",
     "output_type": "stream",
     "text": [
      "['deposit_type_No Deposit', 'required_car_parking_spaces', 'deposit_type_Non Refund', 'lead_time', 'total_of_special_requests', 'distribution_channel_TA/TO', 'booking_changes', 'market_segment_Groups', 'distribution_channel_Direct']\n"
     ]
    },
    {
     "name": "stderr",
     "output_type": "stream",
     "text": [
      "100%|██████████████████████████████████████████████████████████████████████████████████| 10/10 [00:00<00:00, 32.05it/s]\n"
     ]
    },
    {
     "name": "stdout",
     "output_type": "stream",
     "text": [
      "['deposit_type_No Deposit', 'required_car_parking_spaces', 'deposit_type_Non Refund', 'lead_time', 'total_of_special_requests', 'distribution_channel_TA/TO', 'booking_changes', 'market_segment_Groups', 'distribution_channel_Direct', 'previous_cancellations']\n"
     ]
    },
    {
     "name": "stderr",
     "output_type": "stream",
     "text": [
      "100%|██████████████████████████████████████████████████████████████████████████████████| 11/11 [00:00<00:00, 28.12it/s]\n"
     ]
    },
    {
     "name": "stdout",
     "output_type": "stream",
     "text": [
      "['deposit_type_No Deposit', 'required_car_parking_spaces', 'deposit_type_Non Refund', 'lead_time', 'total_of_special_requests', 'distribution_channel_TA/TO', 'booking_changes', 'market_segment_Groups', 'distribution_channel_Direct', 'previous_cancellations', 'hotel_City Hotel']\n"
     ]
    },
    {
     "name": "stderr",
     "output_type": "stream",
     "text": [
      "100%|██████████████████████████████████████████████████████████████████████████████████| 12/12 [00:00<00:00, 29.37it/s]\n"
     ]
    },
    {
     "name": "stdout",
     "output_type": "stream",
     "text": [
      "['deposit_type_No Deposit', 'required_car_parking_spaces', 'deposit_type_Non Refund', 'lead_time', 'total_of_special_requests', 'distribution_channel_TA/TO', 'booking_changes', 'market_segment_Groups', 'distribution_channel_Direct', 'previous_cancellations', 'hotel_City Hotel', 'market_segment_Direct']\n"
     ]
    },
    {
     "name": "stderr",
     "output_type": "stream",
     "text": [
      "100%|██████████████████████████████████████████████████████████████████████████████████| 13/13 [00:00<00:00, 34.35it/s]\n"
     ]
    },
    {
     "name": "stdout",
     "output_type": "stream",
     "text": [
      "['deposit_type_No Deposit', 'required_car_parking_spaces', 'deposit_type_Non Refund', 'lead_time', 'total_of_special_requests', 'distribution_channel_TA/TO', 'booking_changes', 'market_segment_Groups', 'distribution_channel_Direct', 'previous_cancellations', 'hotel_City Hotel', 'market_segment_Direct', 'customer_type_Transient-Party']\n"
     ]
    },
    {
     "name": "stderr",
     "output_type": "stream",
     "text": [
      "100%|██████████████████████████████████████████████████████████████████████████████████| 14/14 [00:00<00:00, 32.05it/s]\n"
     ]
    },
    {
     "name": "stdout",
     "output_type": "stream",
     "text": [
      "['deposit_type_No Deposit', 'required_car_parking_spaces', 'deposit_type_Non Refund', 'lead_time', 'total_of_special_requests', 'distribution_channel_TA/TO', 'booking_changes', 'market_segment_Groups', 'distribution_channel_Direct', 'previous_cancellations', 'hotel_City Hotel', 'market_segment_Direct', 'customer_type_Transient-Party', 'is_repeated_guest']\n"
     ]
    },
    {
     "name": "stderr",
     "output_type": "stream",
     "text": [
      "100%|██████████████████████████████████████████████████████████████████████████████████| 15/15 [00:00<00:00, 29.96it/s]\n"
     ]
    },
    {
     "name": "stdout",
     "output_type": "stream",
     "text": [
      "['deposit_type_No Deposit', 'required_car_parking_spaces', 'deposit_type_Non Refund', 'lead_time', 'total_of_special_requests', 'distribution_channel_TA/TO', 'booking_changes', 'market_segment_Groups', 'distribution_channel_Direct', 'previous_cancellations', 'hotel_City Hotel', 'market_segment_Direct', 'customer_type_Transient-Party', 'is_repeated_guest', 'reserved_room_type_D']\n"
     ]
    },
    {
     "name": "stderr",
     "output_type": "stream",
     "text": [
      "100%|██████████████████████████████████████████████████████████████████████████████████| 16/16 [00:00<00:00, 31.96it/s]\n"
     ]
    },
    {
     "name": "stdout",
     "output_type": "stream",
     "text": [
      "['deposit_type_No Deposit', 'required_car_parking_spaces', 'deposit_type_Non Refund', 'lead_time', 'total_of_special_requests', 'distribution_channel_TA/TO', 'booking_changes', 'market_segment_Groups', 'distribution_channel_Direct', 'previous_cancellations', 'hotel_City Hotel', 'market_segment_Direct', 'customer_type_Transient-Party', 'is_repeated_guest', 'reserved_room_type_D', 'arrival_date_day_of_month']\n"
     ]
    },
    {
     "name": "stderr",
     "output_type": "stream",
     "text": [
      "100%|██████████████████████████████████████████████████████████████████████████████████| 17/17 [00:00<00:00, 27.88it/s]\n"
     ]
    },
    {
     "name": "stdout",
     "output_type": "stream",
     "text": [
      "['deposit_type_No Deposit', 'required_car_parking_spaces', 'deposit_type_Non Refund', 'lead_time', 'total_of_special_requests', 'distribution_channel_TA/TO', 'booking_changes', 'market_segment_Groups', 'distribution_channel_Direct', 'previous_cancellations', 'hotel_City Hotel', 'market_segment_Direct', 'customer_type_Transient-Party', 'is_repeated_guest', 'reserved_room_type_D', 'arrival_date_day_of_month', 'hotel_Resort Hotel']\n"
     ]
    },
    {
     "name": "stderr",
     "output_type": "stream",
     "text": [
      "100%|██████████████████████████████████████████████████████████████████████████████████| 18/18 [00:00<00:00, 31.12it/s]\n"
     ]
    },
    {
     "name": "stdout",
     "output_type": "stream",
     "text": [
      "['deposit_type_No Deposit', 'required_car_parking_spaces', 'deposit_type_Non Refund', 'lead_time', 'total_of_special_requests', 'distribution_channel_TA/TO', 'booking_changes', 'market_segment_Groups', 'distribution_channel_Direct', 'previous_cancellations', 'hotel_City Hotel', 'market_segment_Direct', 'customer_type_Transient-Party', 'is_repeated_guest', 'reserved_room_type_D', 'arrival_date_day_of_month', 'hotel_Resort Hotel', 'customer_type_Transient']\n"
     ]
    },
    {
     "name": "stderr",
     "output_type": "stream",
     "text": [
      "100%|██████████████████████████████████████████████████████████████████████████████████| 19/19 [00:00<00:00, 27.07it/s]\n"
     ]
    },
    {
     "name": "stdout",
     "output_type": "stream",
     "text": [
      "['deposit_type_No Deposit', 'required_car_parking_spaces', 'deposit_type_Non Refund', 'lead_time', 'total_of_special_requests', 'distribution_channel_TA/TO', 'booking_changes', 'market_segment_Groups', 'distribution_channel_Direct', 'previous_cancellations', 'hotel_City Hotel', 'market_segment_Direct', 'customer_type_Transient-Party', 'is_repeated_guest', 'reserved_room_type_D', 'arrival_date_day_of_month', 'hotel_Resort Hotel', 'customer_type_Transient', 'meal_FB']\n"
     ]
    },
    {
     "name": "stderr",
     "output_type": "stream",
     "text": [
      "100%|██████████████████████████████████████████████████████████████████████████████████| 20/20 [00:00<00:00, 31.86it/s]\n"
     ]
    },
    {
     "name": "stdout",
     "output_type": "stream",
     "text": [
      "['deposit_type_No Deposit', 'required_car_parking_spaces', 'deposit_type_Non Refund', 'lead_time', 'total_of_special_requests', 'distribution_channel_TA/TO', 'booking_changes', 'market_segment_Groups', 'distribution_channel_Direct', 'previous_cancellations', 'hotel_City Hotel', 'market_segment_Direct', 'customer_type_Transient-Party', 'is_repeated_guest', 'reserved_room_type_D', 'arrival_date_day_of_month', 'hotel_Resort Hotel', 'customer_type_Transient', 'meal_FB', 'days_in_waiting_list']\n"
     ]
    },
    {
     "name": "stderr",
     "output_type": "stream",
     "text": [
      "100%|██████████████████████████████████████████████████████████████████████████████████| 21/21 [00:00<00:00, 31.11it/s]\n"
     ]
    },
    {
     "name": "stdout",
     "output_type": "stream",
     "text": [
      "['deposit_type_No Deposit', 'required_car_parking_spaces', 'deposit_type_Non Refund', 'lead_time', 'total_of_special_requests', 'distribution_channel_TA/TO', 'booking_changes', 'market_segment_Groups', 'distribution_channel_Direct', 'previous_cancellations', 'hotel_City Hotel', 'market_segment_Direct', 'customer_type_Transient-Party', 'is_repeated_guest', 'reserved_room_type_D', 'arrival_date_day_of_month', 'hotel_Resort Hotel', 'customer_type_Transient', 'meal_FB', 'days_in_waiting_list', 'market_segment_Corporate']\n"
     ]
    },
    {
     "name": "stderr",
     "output_type": "stream",
     "text": [
      "100%|██████████████████████████████████████████████████████████████████████████████████| 22/22 [00:00<00:00, 32.71it/s]\n"
     ]
    },
    {
     "name": "stdout",
     "output_type": "stream",
     "text": [
      "['deposit_type_No Deposit', 'required_car_parking_spaces', 'deposit_type_Non Refund', 'lead_time', 'total_of_special_requests', 'distribution_channel_TA/TO', 'booking_changes', 'market_segment_Groups', 'distribution_channel_Direct', 'previous_cancellations', 'hotel_City Hotel', 'market_segment_Direct', 'customer_type_Transient-Party', 'is_repeated_guest', 'reserved_room_type_D', 'arrival_date_day_of_month', 'hotel_Resort Hotel', 'customer_type_Transient', 'meal_FB', 'days_in_waiting_list', 'market_segment_Corporate', 'deposit_type_Refundable']\n"
     ]
    },
    {
     "name": "stderr",
     "output_type": "stream",
     "text": [
      "100%|██████████████████████████████████████████████████████████████████████████████████| 23/23 [00:00<00:00, 29.42it/s]\n"
     ]
    },
    {
     "name": "stdout",
     "output_type": "stream",
     "text": [
      "['deposit_type_No Deposit', 'required_car_parking_spaces', 'deposit_type_Non Refund', 'lead_time', 'total_of_special_requests', 'distribution_channel_TA/TO', 'booking_changes', 'market_segment_Groups', 'distribution_channel_Direct', 'previous_cancellations', 'hotel_City Hotel', 'market_segment_Direct', 'customer_type_Transient-Party', 'is_repeated_guest', 'reserved_room_type_D', 'arrival_date_day_of_month', 'hotel_Resort Hotel', 'customer_type_Transient', 'meal_FB', 'days_in_waiting_list', 'market_segment_Corporate', 'deposit_type_Refundable', 'previous_bookings_not_canceled']\n"
     ]
    },
    {
     "name": "stderr",
     "output_type": "stream",
     "text": [
      "100%|██████████████████████████████████████████████████████████████████████████████████| 24/24 [00:00<00:00, 30.11it/s]\n"
     ]
    },
    {
     "name": "stdout",
     "output_type": "stream",
     "text": [
      "['deposit_type_No Deposit', 'required_car_parking_spaces', 'deposit_type_Non Refund', 'lead_time', 'total_of_special_requests', 'distribution_channel_TA/TO', 'booking_changes', 'market_segment_Groups', 'distribution_channel_Direct', 'previous_cancellations', 'hotel_City Hotel', 'market_segment_Direct', 'customer_type_Transient-Party', 'is_repeated_guest', 'reserved_room_type_D', 'arrival_date_day_of_month', 'hotel_Resort Hotel', 'customer_type_Transient', 'meal_FB', 'days_in_waiting_list', 'market_segment_Corporate', 'deposit_type_Refundable', 'previous_bookings_not_canceled', 'market_segment_Complementary']\n"
     ]
    },
    {
     "name": "stderr",
     "output_type": "stream",
     "text": [
      "100%|██████████████████████████████████████████████████████████████████████████████████| 25/25 [00:00<00:00, 33.19it/s]\n"
     ]
    },
    {
     "name": "stdout",
     "output_type": "stream",
     "text": [
      "['deposit_type_No Deposit', 'required_car_parking_spaces', 'deposit_type_Non Refund', 'lead_time', 'total_of_special_requests', 'distribution_channel_TA/TO', 'booking_changes', 'market_segment_Groups', 'distribution_channel_Direct', 'previous_cancellations', 'hotel_City Hotel', 'market_segment_Direct', 'customer_type_Transient-Party', 'is_repeated_guest', 'reserved_room_type_D', 'arrival_date_day_of_month', 'hotel_Resort Hotel', 'customer_type_Transient', 'meal_FB', 'days_in_waiting_list', 'market_segment_Corporate', 'deposit_type_Refundable', 'previous_bookings_not_canceled', 'market_segment_Complementary', 'distribution_channel_Corporate']\n"
     ]
    },
    {
     "name": "stderr",
     "output_type": "stream",
     "text": [
      "100%|██████████████████████████████████████████████████████████████████████████████████| 26/26 [00:00<00:00, 31.33it/s]\n"
     ]
    },
    {
     "name": "stdout",
     "output_type": "stream",
     "text": [
      "['deposit_type_No Deposit', 'required_car_parking_spaces', 'deposit_type_Non Refund', 'lead_time', 'total_of_special_requests', 'distribution_channel_TA/TO', 'booking_changes', 'market_segment_Groups', 'distribution_channel_Direct', 'previous_cancellations', 'hotel_City Hotel', 'market_segment_Direct', 'customer_type_Transient-Party', 'is_repeated_guest', 'reserved_room_type_D', 'arrival_date_day_of_month', 'hotel_Resort Hotel', 'customer_type_Transient', 'meal_FB', 'days_in_waiting_list', 'market_segment_Corporate', 'deposit_type_Refundable', 'previous_bookings_not_canceled', 'market_segment_Complementary', 'distribution_channel_Corporate', 'reserved_room_type_A']\n"
     ]
    },
    {
     "name": "stderr",
     "output_type": "stream",
     "text": [
      "100%|██████████████████████████████████████████████████████████████████████████████████| 27/27 [00:00<00:00, 28.33it/s]\n"
     ]
    },
    {
     "name": "stdout",
     "output_type": "stream",
     "text": [
      "['deposit_type_No Deposit', 'required_car_parking_spaces', 'deposit_type_Non Refund', 'lead_time', 'total_of_special_requests', 'distribution_channel_TA/TO', 'booking_changes', 'market_segment_Groups', 'distribution_channel_Direct', 'previous_cancellations', 'hotel_City Hotel', 'market_segment_Direct', 'customer_type_Transient-Party', 'is_repeated_guest', 'reserved_room_type_D', 'arrival_date_day_of_month', 'hotel_Resort Hotel', 'customer_type_Transient', 'meal_FB', 'days_in_waiting_list', 'market_segment_Corporate', 'deposit_type_Refundable', 'previous_bookings_not_canceled', 'market_segment_Complementary', 'distribution_channel_Corporate', 'reserved_room_type_A', 'adults']\n"
     ]
    },
    {
     "name": "stderr",
     "output_type": "stream",
     "text": [
      "100%|██████████████████████████████████████████████████████████████████████████████████| 28/28 [00:00<00:00, 31.45it/s]\n"
     ]
    },
    {
     "name": "stdout",
     "output_type": "stream",
     "text": [
      "['deposit_type_No Deposit', 'required_car_parking_spaces', 'deposit_type_Non Refund', 'lead_time', 'total_of_special_requests', 'distribution_channel_TA/TO', 'booking_changes', 'market_segment_Groups', 'distribution_channel_Direct', 'previous_cancellations', 'hotel_City Hotel', 'market_segment_Direct', 'customer_type_Transient-Party', 'is_repeated_guest', 'reserved_room_type_D', 'arrival_date_day_of_month', 'hotel_Resort Hotel', 'customer_type_Transient', 'meal_FB', 'days_in_waiting_list', 'market_segment_Corporate', 'deposit_type_Refundable', 'previous_bookings_not_canceled', 'market_segment_Complementary', 'distribution_channel_Corporate', 'reserved_room_type_A', 'adults', 'market_segment_Aviation']\n"
     ]
    },
    {
     "name": "stderr",
     "output_type": "stream",
     "text": [
      "100%|██████████████████████████████████████████████████████████████████████████████████| 29/29 [00:00<00:00, 31.96it/s]\n"
     ]
    },
    {
     "name": "stdout",
     "output_type": "stream",
     "text": [
      "['deposit_type_No Deposit', 'required_car_parking_spaces', 'deposit_type_Non Refund', 'lead_time', 'total_of_special_requests', 'distribution_channel_TA/TO', 'booking_changes', 'market_segment_Groups', 'distribution_channel_Direct', 'previous_cancellations', 'hotel_City Hotel', 'market_segment_Direct', 'customer_type_Transient-Party', 'is_repeated_guest', 'reserved_room_type_D', 'arrival_date_day_of_month', 'hotel_Resort Hotel', 'customer_type_Transient', 'meal_FB', 'days_in_waiting_list', 'market_segment_Corporate', 'deposit_type_Refundable', 'previous_bookings_not_canceled', 'market_segment_Complementary', 'distribution_channel_Corporate', 'reserved_room_type_A', 'adults', 'market_segment_Aviation', 'meal_HB']\n"
     ]
    },
    {
     "name": "stderr",
     "output_type": "stream",
     "text": [
      "100%|████████████████████████████████████████████████████████████████████████████████████| 5/5 [00:00<00:00, 31.80it/s]\n"
     ]
    },
    {
     "name": "stdout",
     "output_type": "stream",
     "text": [
      "['deposit_type_No Deposit', 'required_car_parking_spaces', 'deposit_type_Non Refund', 'lead_time', 'total_of_special_requests']\n"
     ]
    },
    {
     "name": "stderr",
     "output_type": "stream",
     "text": [
      "100%|████████████████████████████████████████████████████████████████████████████████████| 6/6 [00:00<00:00, 36.95it/s]\n"
     ]
    },
    {
     "name": "stdout",
     "output_type": "stream",
     "text": [
      "['deposit_type_No Deposit', 'required_car_parking_spaces', 'deposit_type_Non Refund', 'lead_time', 'total_of_special_requests', 'distribution_channel_TA/TO']\n"
     ]
    },
    {
     "name": "stderr",
     "output_type": "stream",
     "text": [
      "100%|████████████████████████████████████████████████████████████████████████████████████| 7/7 [00:00<00:00, 36.83it/s]\n"
     ]
    },
    {
     "name": "stdout",
     "output_type": "stream",
     "text": [
      "['deposit_type_No Deposit', 'required_car_parking_spaces', 'deposit_type_Non Refund', 'lead_time', 'total_of_special_requests', 'distribution_channel_TA/TO', 'booking_changes']\n"
     ]
    },
    {
     "name": "stderr",
     "output_type": "stream",
     "text": [
      "100%|████████████████████████████████████████████████████████████████████████████████████| 8/8 [00:00<00:00, 35.98it/s]\n"
     ]
    },
    {
     "name": "stdout",
     "output_type": "stream",
     "text": [
      "['deposit_type_No Deposit', 'required_car_parking_spaces', 'deposit_type_Non Refund', 'lead_time', 'total_of_special_requests', 'distribution_channel_TA/TO', 'booking_changes', 'market_segment_Groups']\n"
     ]
    },
    {
     "name": "stderr",
     "output_type": "stream",
     "text": [
      "100%|████████████████████████████████████████████████████████████████████████████████████| 9/9 [00:00<00:00, 35.34it/s]\n"
     ]
    },
    {
     "name": "stdout",
     "output_type": "stream",
     "text": [
      "['deposit_type_No Deposit', 'required_car_parking_spaces', 'deposit_type_Non Refund', 'lead_time', 'total_of_special_requests', 'distribution_channel_TA/TO', 'booking_changes', 'market_segment_Groups', 'distribution_channel_Direct']\n"
     ]
    },
    {
     "name": "stderr",
     "output_type": "stream",
     "text": [
      "100%|██████████████████████████████████████████████████████████████████████████████████| 10/10 [00:00<00:00, 35.12it/s]\n"
     ]
    },
    {
     "name": "stdout",
     "output_type": "stream",
     "text": [
      "['deposit_type_No Deposit', 'required_car_parking_spaces', 'deposit_type_Non Refund', 'lead_time', 'total_of_special_requests', 'distribution_channel_TA/TO', 'booking_changes', 'market_segment_Groups', 'distribution_channel_Direct', 'previous_cancellations']\n"
     ]
    },
    {
     "name": "stderr",
     "output_type": "stream",
     "text": [
      "100%|██████████████████████████████████████████████████████████████████████████████████| 11/11 [00:00<00:00, 34.82it/s]\n"
     ]
    },
    {
     "name": "stdout",
     "output_type": "stream",
     "text": [
      "['deposit_type_No Deposit', 'required_car_parking_spaces', 'deposit_type_Non Refund', 'lead_time', 'total_of_special_requests', 'distribution_channel_TA/TO', 'booking_changes', 'market_segment_Groups', 'distribution_channel_Direct', 'previous_cancellations', 'hotel_City Hotel']\n"
     ]
    },
    {
     "name": "stderr",
     "output_type": "stream",
     "text": [
      "100%|██████████████████████████████████████████████████████████████████████████████████| 12/12 [00:00<00:00, 34.58it/s]\n"
     ]
    },
    {
     "name": "stdout",
     "output_type": "stream",
     "text": [
      "['deposit_type_No Deposit', 'required_car_parking_spaces', 'deposit_type_Non Refund', 'lead_time', 'total_of_special_requests', 'distribution_channel_TA/TO', 'booking_changes', 'market_segment_Groups', 'distribution_channel_Direct', 'previous_cancellations', 'hotel_City Hotel', 'market_segment_Direct']\n"
     ]
    },
    {
     "name": "stderr",
     "output_type": "stream",
     "text": [
      "100%|██████████████████████████████████████████████████████████████████████████████████| 13/13 [00:00<00:00, 34.74it/s]\n"
     ]
    },
    {
     "name": "stdout",
     "output_type": "stream",
     "text": [
      "['deposit_type_No Deposit', 'required_car_parking_spaces', 'deposit_type_Non Refund', 'lead_time', 'total_of_special_requests', 'distribution_channel_TA/TO', 'booking_changes', 'market_segment_Groups', 'distribution_channel_Direct', 'previous_cancellations', 'hotel_City Hotel', 'market_segment_Direct', 'customer_type_Transient-Party']\n"
     ]
    },
    {
     "name": "stderr",
     "output_type": "stream",
     "text": [
      "100%|██████████████████████████████████████████████████████████████████████████████████| 14/14 [00:00<00:00, 34.48it/s]\n"
     ]
    },
    {
     "name": "stdout",
     "output_type": "stream",
     "text": [
      "['deposit_type_No Deposit', 'required_car_parking_spaces', 'deposit_type_Non Refund', 'lead_time', 'total_of_special_requests', 'distribution_channel_TA/TO', 'booking_changes', 'market_segment_Groups', 'distribution_channel_Direct', 'previous_cancellations', 'hotel_City Hotel', 'market_segment_Direct', 'customer_type_Transient-Party', 'is_repeated_guest']\n"
     ]
    },
    {
     "name": "stderr",
     "output_type": "stream",
     "text": [
      "100%|██████████████████████████████████████████████████████████████████████████████████| 15/15 [00:00<00:00, 34.13it/s]\n"
     ]
    },
    {
     "name": "stdout",
     "output_type": "stream",
     "text": [
      "['deposit_type_No Deposit', 'required_car_parking_spaces', 'deposit_type_Non Refund', 'lead_time', 'total_of_special_requests', 'distribution_channel_TA/TO', 'booking_changes', 'market_segment_Groups', 'distribution_channel_Direct', 'previous_cancellations', 'hotel_City Hotel', 'market_segment_Direct', 'customer_type_Transient-Party', 'is_repeated_guest', 'reserved_room_type_D']\n"
     ]
    },
    {
     "name": "stderr",
     "output_type": "stream",
     "text": [
      "100%|██████████████████████████████████████████████████████████████████████████████████| 16/16 [00:00<00:00, 33.92it/s]\n"
     ]
    },
    {
     "name": "stdout",
     "output_type": "stream",
     "text": [
      "['deposit_type_No Deposit', 'required_car_parking_spaces', 'deposit_type_Non Refund', 'lead_time', 'total_of_special_requests', 'distribution_channel_TA/TO', 'booking_changes', 'market_segment_Groups', 'distribution_channel_Direct', 'previous_cancellations', 'hotel_City Hotel', 'market_segment_Direct', 'customer_type_Transient-Party', 'is_repeated_guest', 'reserved_room_type_D', 'arrival_date_day_of_month']\n"
     ]
    },
    {
     "name": "stderr",
     "output_type": "stream",
     "text": [
      "100%|██████████████████████████████████████████████████████████████████████████████████| 17/17 [00:00<00:00, 33.61it/s]\n"
     ]
    },
    {
     "name": "stdout",
     "output_type": "stream",
     "text": [
      "['deposit_type_No Deposit', 'required_car_parking_spaces', 'deposit_type_Non Refund', 'lead_time', 'total_of_special_requests', 'distribution_channel_TA/TO', 'booking_changes', 'market_segment_Groups', 'distribution_channel_Direct', 'previous_cancellations', 'hotel_City Hotel', 'market_segment_Direct', 'customer_type_Transient-Party', 'is_repeated_guest', 'reserved_room_type_D', 'arrival_date_day_of_month', 'hotel_Resort Hotel']\n"
     ]
    },
    {
     "name": "stderr",
     "output_type": "stream",
     "text": [
      "100%|██████████████████████████████████████████████████████████████████████████████████| 18/18 [00:00<00:00, 31.96it/s]\n"
     ]
    },
    {
     "name": "stdout",
     "output_type": "stream",
     "text": [
      "['deposit_type_No Deposit', 'required_car_parking_spaces', 'deposit_type_Non Refund', 'lead_time', 'total_of_special_requests', 'distribution_channel_TA/TO', 'booking_changes', 'market_segment_Groups', 'distribution_channel_Direct', 'previous_cancellations', 'hotel_City Hotel', 'market_segment_Direct', 'customer_type_Transient-Party', 'is_repeated_guest', 'reserved_room_type_D', 'arrival_date_day_of_month', 'hotel_Resort Hotel', 'customer_type_Transient']\n"
     ]
    },
    {
     "name": "stderr",
     "output_type": "stream",
     "text": [
      "100%|██████████████████████████████████████████████████████████████████████████████████| 19/19 [00:00<00:00, 30.31it/s]\n"
     ]
    },
    {
     "name": "stdout",
     "output_type": "stream",
     "text": [
      "['deposit_type_No Deposit', 'required_car_parking_spaces', 'deposit_type_Non Refund', 'lead_time', 'total_of_special_requests', 'distribution_channel_TA/TO', 'booking_changes', 'market_segment_Groups', 'distribution_channel_Direct', 'previous_cancellations', 'hotel_City Hotel', 'market_segment_Direct', 'customer_type_Transient-Party', 'is_repeated_guest', 'reserved_room_type_D', 'arrival_date_day_of_month', 'hotel_Resort Hotel', 'customer_type_Transient', 'meal_FB']\n"
     ]
    },
    {
     "name": "stderr",
     "output_type": "stream",
     "text": [
      "100%|██████████████████████████████████████████████████████████████████████████████████| 20/20 [00:00<00:00, 32.02it/s]\n"
     ]
    },
    {
     "name": "stdout",
     "output_type": "stream",
     "text": [
      "['deposit_type_No Deposit', 'required_car_parking_spaces', 'deposit_type_Non Refund', 'lead_time', 'total_of_special_requests', 'distribution_channel_TA/TO', 'booking_changes', 'market_segment_Groups', 'distribution_channel_Direct', 'previous_cancellations', 'hotel_City Hotel', 'market_segment_Direct', 'customer_type_Transient-Party', 'is_repeated_guest', 'reserved_room_type_D', 'arrival_date_day_of_month', 'hotel_Resort Hotel', 'customer_type_Transient', 'meal_FB', 'days_in_waiting_list']\n"
     ]
    },
    {
     "name": "stderr",
     "output_type": "stream",
     "text": [
      "100%|██████████████████████████████████████████████████████████████████████████████████| 21/21 [00:00<00:00, 33.36it/s]\n"
     ]
    },
    {
     "name": "stdout",
     "output_type": "stream",
     "text": [
      "['deposit_type_No Deposit', 'required_car_parking_spaces', 'deposit_type_Non Refund', 'lead_time', 'total_of_special_requests', 'distribution_channel_TA/TO', 'booking_changes', 'market_segment_Groups', 'distribution_channel_Direct', 'previous_cancellations', 'hotel_City Hotel', 'market_segment_Direct', 'customer_type_Transient-Party', 'is_repeated_guest', 'reserved_room_type_D', 'arrival_date_day_of_month', 'hotel_Resort Hotel', 'customer_type_Transient', 'meal_FB', 'days_in_waiting_list', 'market_segment_Corporate']\n"
     ]
    },
    {
     "name": "stderr",
     "output_type": "stream",
     "text": [
      "100%|██████████████████████████████████████████████████████████████████████████████████| 22/22 [00:00<00:00, 33.40it/s]\n"
     ]
    },
    {
     "name": "stdout",
     "output_type": "stream",
     "text": [
      "['deposit_type_No Deposit', 'required_car_parking_spaces', 'deposit_type_Non Refund', 'lead_time', 'total_of_special_requests', 'distribution_channel_TA/TO', 'booking_changes', 'market_segment_Groups', 'distribution_channel_Direct', 'previous_cancellations', 'hotel_City Hotel', 'market_segment_Direct', 'customer_type_Transient-Party', 'is_repeated_guest', 'reserved_room_type_D', 'arrival_date_day_of_month', 'hotel_Resort Hotel', 'customer_type_Transient', 'meal_FB', 'days_in_waiting_list', 'market_segment_Corporate', 'deposit_type_Refundable']\n"
     ]
    },
    {
     "name": "stderr",
     "output_type": "stream",
     "text": [
      "100%|██████████████████████████████████████████████████████████████████████████████████| 23/23 [00:00<00:00, 33.35it/s]\n"
     ]
    },
    {
     "name": "stdout",
     "output_type": "stream",
     "text": [
      "['deposit_type_No Deposit', 'required_car_parking_spaces', 'deposit_type_Non Refund', 'lead_time', 'total_of_special_requests', 'distribution_channel_TA/TO', 'booking_changes', 'market_segment_Groups', 'distribution_channel_Direct', 'previous_cancellations', 'hotel_City Hotel', 'market_segment_Direct', 'customer_type_Transient-Party', 'is_repeated_guest', 'reserved_room_type_D', 'arrival_date_day_of_month', 'hotel_Resort Hotel', 'customer_type_Transient', 'meal_FB', 'days_in_waiting_list', 'market_segment_Corporate', 'deposit_type_Refundable', 'previous_bookings_not_canceled']\n"
     ]
    },
    {
     "name": "stderr",
     "output_type": "stream",
     "text": [
      "100%|██████████████████████████████████████████████████████████████████████████████████| 24/24 [00:00<00:00, 32.50it/s]\n"
     ]
    },
    {
     "name": "stdout",
     "output_type": "stream",
     "text": [
      "['deposit_type_No Deposit', 'required_car_parking_spaces', 'deposit_type_Non Refund', 'lead_time', 'total_of_special_requests', 'distribution_channel_TA/TO', 'booking_changes', 'market_segment_Groups', 'distribution_channel_Direct', 'previous_cancellations', 'hotel_City Hotel', 'market_segment_Direct', 'customer_type_Transient-Party', 'is_repeated_guest', 'reserved_room_type_D', 'arrival_date_day_of_month', 'hotel_Resort Hotel', 'customer_type_Transient', 'meal_FB', 'days_in_waiting_list', 'market_segment_Corporate', 'deposit_type_Refundable', 'previous_bookings_not_canceled', 'market_segment_Complementary']\n"
     ]
    },
    {
     "name": "stderr",
     "output_type": "stream",
     "text": [
      "100%|██████████████████████████████████████████████████████████████████████████████████| 25/25 [00:00<00:00, 33.12it/s]\n"
     ]
    },
    {
     "name": "stdout",
     "output_type": "stream",
     "text": [
      "['deposit_type_No Deposit', 'required_car_parking_spaces', 'deposit_type_Non Refund', 'lead_time', 'total_of_special_requests', 'distribution_channel_TA/TO', 'booking_changes', 'market_segment_Groups', 'distribution_channel_Direct', 'previous_cancellations', 'hotel_City Hotel', 'market_segment_Direct', 'customer_type_Transient-Party', 'is_repeated_guest', 'reserved_room_type_D', 'arrival_date_day_of_month', 'hotel_Resort Hotel', 'customer_type_Transient', 'meal_FB', 'days_in_waiting_list', 'market_segment_Corporate', 'deposit_type_Refundable', 'previous_bookings_not_canceled', 'market_segment_Complementary', 'distribution_channel_Corporate']\n"
     ]
    },
    {
     "name": "stderr",
     "output_type": "stream",
     "text": [
      "100%|██████████████████████████████████████████████████████████████████████████████████| 26/26 [00:00<00:00, 31.88it/s]\n"
     ]
    },
    {
     "name": "stdout",
     "output_type": "stream",
     "text": [
      "['deposit_type_No Deposit', 'required_car_parking_spaces', 'deposit_type_Non Refund', 'lead_time', 'total_of_special_requests', 'distribution_channel_TA/TO', 'booking_changes', 'market_segment_Groups', 'distribution_channel_Direct', 'previous_cancellations', 'hotel_City Hotel', 'market_segment_Direct', 'customer_type_Transient-Party', 'is_repeated_guest', 'reserved_room_type_D', 'arrival_date_day_of_month', 'hotel_Resort Hotel', 'customer_type_Transient', 'meal_FB', 'days_in_waiting_list', 'market_segment_Corporate', 'deposit_type_Refundable', 'previous_bookings_not_canceled', 'market_segment_Complementary', 'distribution_channel_Corporate', 'reserved_room_type_A']\n"
     ]
    },
    {
     "name": "stderr",
     "output_type": "stream",
     "text": [
      "100%|██████████████████████████████████████████████████████████████████████████████████| 27/27 [00:00<00:00, 33.24it/s]\n"
     ]
    },
    {
     "name": "stdout",
     "output_type": "stream",
     "text": [
      "['deposit_type_No Deposit', 'required_car_parking_spaces', 'deposit_type_Non Refund', 'lead_time', 'total_of_special_requests', 'distribution_channel_TA/TO', 'booking_changes', 'market_segment_Groups', 'distribution_channel_Direct', 'previous_cancellations', 'hotel_City Hotel', 'market_segment_Direct', 'customer_type_Transient-Party', 'is_repeated_guest', 'reserved_room_type_D', 'arrival_date_day_of_month', 'hotel_Resort Hotel', 'customer_type_Transient', 'meal_FB', 'days_in_waiting_list', 'market_segment_Corporate', 'deposit_type_Refundable', 'previous_bookings_not_canceled', 'market_segment_Complementary', 'distribution_channel_Corporate', 'reserved_room_type_A', 'adults']\n"
     ]
    },
    {
     "name": "stderr",
     "output_type": "stream",
     "text": [
      "100%|██████████████████████████████████████████████████████████████████████████████████| 28/28 [00:00<00:00, 32.20it/s]\n"
     ]
    },
    {
     "name": "stdout",
     "output_type": "stream",
     "text": [
      "['deposit_type_No Deposit', 'required_car_parking_spaces', 'deposit_type_Non Refund', 'lead_time', 'total_of_special_requests', 'distribution_channel_TA/TO', 'booking_changes', 'market_segment_Groups', 'distribution_channel_Direct', 'previous_cancellations', 'hotel_City Hotel', 'market_segment_Direct', 'customer_type_Transient-Party', 'is_repeated_guest', 'reserved_room_type_D', 'arrival_date_day_of_month', 'hotel_Resort Hotel', 'customer_type_Transient', 'meal_FB', 'days_in_waiting_list', 'market_segment_Corporate', 'deposit_type_Refundable', 'previous_bookings_not_canceled', 'market_segment_Complementary', 'distribution_channel_Corporate', 'reserved_room_type_A', 'adults', 'market_segment_Aviation']\n"
     ]
    },
    {
     "name": "stderr",
     "output_type": "stream",
     "text": [
      "100%|██████████████████████████████████████████████████████████████████████████████████| 29/29 [00:00<00:00, 32.97it/s]\n"
     ]
    },
    {
     "name": "stdout",
     "output_type": "stream",
     "text": [
      "['deposit_type_No Deposit', 'required_car_parking_spaces', 'deposit_type_Non Refund', 'lead_time', 'total_of_special_requests', 'distribution_channel_TA/TO', 'booking_changes', 'market_segment_Groups', 'distribution_channel_Direct', 'previous_cancellations', 'hotel_City Hotel', 'market_segment_Direct', 'customer_type_Transient-Party', 'is_repeated_guest', 'reserved_room_type_D', 'arrival_date_day_of_month', 'hotel_Resort Hotel', 'customer_type_Transient', 'meal_FB', 'days_in_waiting_list', 'market_segment_Corporate', 'deposit_type_Refundable', 'previous_bookings_not_canceled', 'market_segment_Complementary', 'distribution_channel_Corporate', 'reserved_room_type_A', 'adults', 'market_segment_Aviation', 'meal_HB']\n"
     ]
    }
   ],
   "source": [
    "results = []\n",
    "for classifier in classifiers:\n",
    "    clas = classifier\n",
    "    for i in range(5,30):\n",
    "        lst = (mrmr_classif(X_train,y_train.values,K=i))\n",
    "        print(lst)\n",
    "        X_train_temp = X_train.loc[:,lst]\n",
    "        X_test_temp = X_test.loc[:,lst]\n",
    "        clas.fit(X_train_temp, y_train)\n",
    "        y_pred = classifier.predict(X_test_temp)\n",
    "        a = len(lst)\n",
    "        b = lst\n",
    "        c = str(classifier)\n",
    "        d = balanced_accuracy_score(y_test, y_pred)\n",
    "        e = f1_score(y_test, y_pred, average='macro')\n",
    "        results.append([a,b,c,d,e])"
   ]
  },
  {
   "cell_type": "code",
   "execution_count": 43,
   "id": "164534a4-ebfa-44f0-bb89-62fc8655cf95",
   "metadata": {},
   "outputs": [],
   "source": [
    "res = pd.DataFrame(results)"
   ]
  },
  {
   "cell_type": "code",
   "execution_count": 44,
   "id": "65976eb8-9bbf-4199-a83b-dd71d80f2260",
   "metadata": {
    "scrolled": true
   },
   "outputs": [
    {
     "data": {
      "text/html": [
       "<div>\n",
       "<style scoped>\n",
       "    .dataframe tbody tr th:only-of-type {\n",
       "        vertical-align: middle;\n",
       "    }\n",
       "\n",
       "    .dataframe tbody tr th {\n",
       "        vertical-align: top;\n",
       "    }\n",
       "\n",
       "    .dataframe thead th {\n",
       "        text-align: right;\n",
       "    }\n",
       "</style>\n",
       "<table border=\"1\" class=\"dataframe\">\n",
       "  <thead>\n",
       "    <tr style=\"text-align: right;\">\n",
       "      <th></th>\n",
       "      <th>0</th>\n",
       "      <th>1</th>\n",
       "      <th>2</th>\n",
       "      <th>3</th>\n",
       "      <th>4</th>\n",
       "    </tr>\n",
       "  </thead>\n",
       "  <tbody>\n",
       "    <tr>\n",
       "      <th>0</th>\n",
       "      <td>5</td>\n",
       "      <td>[deposit_type_No Deposit, required_car_parking...</td>\n",
       "      <td>RandomForestClassifier(class_weight='balanced')</td>\n",
       "      <td>0.663387</td>\n",
       "      <td>0.664173</td>\n",
       "    </tr>\n",
       "    <tr>\n",
       "      <th>1</th>\n",
       "      <td>6</td>\n",
       "      <td>[deposit_type_No Deposit, required_car_parking...</td>\n",
       "      <td>RandomForestClassifier(class_weight='balanced')</td>\n",
       "      <td>0.674618</td>\n",
       "      <td>0.675462</td>\n",
       "    </tr>\n",
       "    <tr>\n",
       "      <th>2</th>\n",
       "      <td>7</td>\n",
       "      <td>[deposit_type_No Deposit, required_car_parking...</td>\n",
       "      <td>RandomForestClassifier(class_weight='balanced')</td>\n",
       "      <td>0.684253</td>\n",
       "      <td>0.686550</td>\n",
       "    </tr>\n",
       "    <tr>\n",
       "      <th>3</th>\n",
       "      <td>8</td>\n",
       "      <td>[deposit_type_No Deposit, required_car_parking...</td>\n",
       "      <td>RandomForestClassifier(class_weight='balanced')</td>\n",
       "      <td>0.678514</td>\n",
       "      <td>0.679482</td>\n",
       "    </tr>\n",
       "    <tr>\n",
       "      <th>4</th>\n",
       "      <td>9</td>\n",
       "      <td>[deposit_type_No Deposit, required_car_parking...</td>\n",
       "      <td>RandomForestClassifier(class_weight='balanced')</td>\n",
       "      <td>0.672439</td>\n",
       "      <td>0.673070</td>\n",
       "    </tr>\n",
       "    <tr>\n",
       "      <th>...</th>\n",
       "      <td>...</td>\n",
       "      <td>...</td>\n",
       "      <td>...</td>\n",
       "      <td>...</td>\n",
       "      <td>...</td>\n",
       "    </tr>\n",
       "    <tr>\n",
       "      <th>70</th>\n",
       "      <td>25</td>\n",
       "      <td>[deposit_type_No Deposit, required_car_parking...</td>\n",
       "      <td>SVC()</td>\n",
       "      <td>0.594008</td>\n",
       "      <td>0.575920</td>\n",
       "    </tr>\n",
       "    <tr>\n",
       "      <th>71</th>\n",
       "      <td>26</td>\n",
       "      <td>[deposit_type_No Deposit, required_car_parking...</td>\n",
       "      <td>SVC()</td>\n",
       "      <td>0.594008</td>\n",
       "      <td>0.575920</td>\n",
       "    </tr>\n",
       "    <tr>\n",
       "      <th>72</th>\n",
       "      <td>27</td>\n",
       "      <td>[deposit_type_No Deposit, required_car_parking...</td>\n",
       "      <td>SVC()</td>\n",
       "      <td>0.594008</td>\n",
       "      <td>0.575920</td>\n",
       "    </tr>\n",
       "    <tr>\n",
       "      <th>73</th>\n",
       "      <td>28</td>\n",
       "      <td>[deposit_type_No Deposit, required_car_parking...</td>\n",
       "      <td>SVC()</td>\n",
       "      <td>0.594008</td>\n",
       "      <td>0.575920</td>\n",
       "    </tr>\n",
       "    <tr>\n",
       "      <th>74</th>\n",
       "      <td>29</td>\n",
       "      <td>[deposit_type_No Deposit, required_car_parking...</td>\n",
       "      <td>SVC()</td>\n",
       "      <td>0.594008</td>\n",
       "      <td>0.575920</td>\n",
       "    </tr>\n",
       "  </tbody>\n",
       "</table>\n",
       "<p>75 rows × 5 columns</p>\n",
       "</div>"
      ],
      "text/plain": [
       "     0                                                  1  \\\n",
       "0    5  [deposit_type_No Deposit, required_car_parking...   \n",
       "1    6  [deposit_type_No Deposit, required_car_parking...   \n",
       "2    7  [deposit_type_No Deposit, required_car_parking...   \n",
       "3    8  [deposit_type_No Deposit, required_car_parking...   \n",
       "4    9  [deposit_type_No Deposit, required_car_parking...   \n",
       "..  ..                                                ...   \n",
       "70  25  [deposit_type_No Deposit, required_car_parking...   \n",
       "71  26  [deposit_type_No Deposit, required_car_parking...   \n",
       "72  27  [deposit_type_No Deposit, required_car_parking...   \n",
       "73  28  [deposit_type_No Deposit, required_car_parking...   \n",
       "74  29  [deposit_type_No Deposit, required_car_parking...   \n",
       "\n",
       "                                                  2         3         4  \n",
       "0   RandomForestClassifier(class_weight='balanced')  0.663387  0.664173  \n",
       "1   RandomForestClassifier(class_weight='balanced')  0.674618  0.675462  \n",
       "2   RandomForestClassifier(class_weight='balanced')  0.684253  0.686550  \n",
       "3   RandomForestClassifier(class_weight='balanced')  0.678514  0.679482  \n",
       "4   RandomForestClassifier(class_weight='balanced')  0.672439  0.673070  \n",
       "..                                              ...       ...       ...  \n",
       "70                                            SVC()  0.594008  0.575920  \n",
       "71                                            SVC()  0.594008  0.575920  \n",
       "72                                            SVC()  0.594008  0.575920  \n",
       "73                                            SVC()  0.594008  0.575920  \n",
       "74                                            SVC()  0.594008  0.575920  \n",
       "\n",
       "[75 rows x 5 columns]"
      ]
     },
     "execution_count": 44,
     "metadata": {},
     "output_type": "execute_result"
    }
   ],
   "source": [
    "res"
   ]
  },
  {
   "cell_type": "code",
   "execution_count": 45,
   "id": "175db9bd-10e8-4660-93f7-612c21462371",
   "metadata": {
    "scrolled": true
   },
   "outputs": [
    {
     "data": {
      "text/html": [
       "<div>\n",
       "<style scoped>\n",
       "    .dataframe tbody tr th:only-of-type {\n",
       "        vertical-align: middle;\n",
       "    }\n",
       "\n",
       "    .dataframe tbody tr th {\n",
       "        vertical-align: top;\n",
       "    }\n",
       "\n",
       "    .dataframe thead th {\n",
       "        text-align: right;\n",
       "    }\n",
       "</style>\n",
       "<table border=\"1\" class=\"dataframe\">\n",
       "  <thead>\n",
       "    <tr style=\"text-align: right;\">\n",
       "      <th></th>\n",
       "      <th>0</th>\n",
       "      <th>1</th>\n",
       "      <th>2</th>\n",
       "      <th>3</th>\n",
       "      <th>4</th>\n",
       "    </tr>\n",
       "  </thead>\n",
       "  <tbody>\n",
       "    <tr>\n",
       "      <th>23</th>\n",
       "      <td>28</td>\n",
       "      <td>[deposit_type_No Deposit, required_car_parking...</td>\n",
       "      <td>RandomForestClassifier(class_weight='balanced')</td>\n",
       "      <td>0.738933</td>\n",
       "      <td>0.745349</td>\n",
       "    </tr>\n",
       "    <tr>\n",
       "      <th>18</th>\n",
       "      <td>23</td>\n",
       "      <td>[deposit_type_No Deposit, required_car_parking...</td>\n",
       "      <td>RandomForestClassifier(class_weight='balanced')</td>\n",
       "      <td>0.735204</td>\n",
       "      <td>0.740820</td>\n",
       "    </tr>\n",
       "    <tr>\n",
       "      <th>17</th>\n",
       "      <td>22</td>\n",
       "      <td>[deposit_type_No Deposit, required_car_parking...</td>\n",
       "      <td>RandomForestClassifier(class_weight='balanced')</td>\n",
       "      <td>0.734744</td>\n",
       "      <td>0.740003</td>\n",
       "    </tr>\n",
       "    <tr>\n",
       "      <th>45</th>\n",
       "      <td>25</td>\n",
       "      <td>[deposit_type_No Deposit, required_car_parking...</td>\n",
       "      <td>XGBClassifier(base_score=None, booster=None, c...</td>\n",
       "      <td>0.732689</td>\n",
       "      <td>0.739087</td>\n",
       "    </tr>\n",
       "    <tr>\n",
       "      <th>15</th>\n",
       "      <td>20</td>\n",
       "      <td>[deposit_type_No Deposit, required_car_parking...</td>\n",
       "      <td>RandomForestClassifier(class_weight='balanced')</td>\n",
       "      <td>0.733026</td>\n",
       "      <td>0.738348</td>\n",
       "    </tr>\n",
       "    <tr>\n",
       "      <th>...</th>\n",
       "      <td>...</td>\n",
       "      <td>...</td>\n",
       "      <td>...</td>\n",
       "      <td>...</td>\n",
       "      <td>...</td>\n",
       "    </tr>\n",
       "    <tr>\n",
       "      <th>55</th>\n",
       "      <td>10</td>\n",
       "      <td>[deposit_type_No Deposit, required_car_parking...</td>\n",
       "      <td>SVC()</td>\n",
       "      <td>0.577623</td>\n",
       "      <td>0.554957</td>\n",
       "    </tr>\n",
       "    <tr>\n",
       "      <th>54</th>\n",
       "      <td>9</td>\n",
       "      <td>[deposit_type_No Deposit, required_car_parking...</td>\n",
       "      <td>SVC()</td>\n",
       "      <td>0.577623</td>\n",
       "      <td>0.554957</td>\n",
       "    </tr>\n",
       "    <tr>\n",
       "      <th>53</th>\n",
       "      <td>8</td>\n",
       "      <td>[deposit_type_No Deposit, required_car_parking...</td>\n",
       "      <td>SVC()</td>\n",
       "      <td>0.577623</td>\n",
       "      <td>0.554957</td>\n",
       "    </tr>\n",
       "    <tr>\n",
       "      <th>52</th>\n",
       "      <td>7</td>\n",
       "      <td>[deposit_type_No Deposit, required_car_parking...</td>\n",
       "      <td>SVC()</td>\n",
       "      <td>0.577623</td>\n",
       "      <td>0.554957</td>\n",
       "    </tr>\n",
       "    <tr>\n",
       "      <th>62</th>\n",
       "      <td>17</td>\n",
       "      <td>[deposit_type_No Deposit, required_car_parking...</td>\n",
       "      <td>SVC()</td>\n",
       "      <td>0.577623</td>\n",
       "      <td>0.554957</td>\n",
       "    </tr>\n",
       "  </tbody>\n",
       "</table>\n",
       "<p>75 rows × 5 columns</p>\n",
       "</div>"
      ],
      "text/plain": [
       "     0                                                  1  \\\n",
       "23  28  [deposit_type_No Deposit, required_car_parking...   \n",
       "18  23  [deposit_type_No Deposit, required_car_parking...   \n",
       "17  22  [deposit_type_No Deposit, required_car_parking...   \n",
       "45  25  [deposit_type_No Deposit, required_car_parking...   \n",
       "15  20  [deposit_type_No Deposit, required_car_parking...   \n",
       "..  ..                                                ...   \n",
       "55  10  [deposit_type_No Deposit, required_car_parking...   \n",
       "54   9  [deposit_type_No Deposit, required_car_parking...   \n",
       "53   8  [deposit_type_No Deposit, required_car_parking...   \n",
       "52   7  [deposit_type_No Deposit, required_car_parking...   \n",
       "62  17  [deposit_type_No Deposit, required_car_parking...   \n",
       "\n",
       "                                                    2         3         4  \n",
       "23    RandomForestClassifier(class_weight='balanced')  0.738933  0.745349  \n",
       "18    RandomForestClassifier(class_weight='balanced')  0.735204  0.740820  \n",
       "17    RandomForestClassifier(class_weight='balanced')  0.734744  0.740003  \n",
       "45  XGBClassifier(base_score=None, booster=None, c...  0.732689  0.739087  \n",
       "15    RandomForestClassifier(class_weight='balanced')  0.733026  0.738348  \n",
       "..                                                ...       ...       ...  \n",
       "55                                              SVC()  0.577623  0.554957  \n",
       "54                                              SVC()  0.577623  0.554957  \n",
       "53                                              SVC()  0.577623  0.554957  \n",
       "52                                              SVC()  0.577623  0.554957  \n",
       "62                                              SVC()  0.577623  0.554957  \n",
       "\n",
       "[75 rows x 5 columns]"
      ]
     },
     "execution_count": 45,
     "metadata": {},
     "output_type": "execute_result"
    }
   ],
   "source": [
    "res.sort_values(4,ascending = False)"
   ]
  },
  {
   "cell_type": "code",
   "execution_count": 68,
   "id": "2e7bf1e9-954e-4b57-8682-22a1fe16f850",
   "metadata": {},
   "outputs": [],
   "source": [
    "importantmrmr = res.iloc[23,1]"
   ]
  },
  {
   "cell_type": "code",
   "execution_count": 69,
   "id": "40944da8-2412-4636-85f9-8ac29daafbe3",
   "metadata": {},
   "outputs": [
    {
     "data": {
      "text/plain": [
       "['deposit_type_No Deposit',\n",
       " 'required_car_parking_spaces',\n",
       " 'deposit_type_Non Refund',\n",
       " 'lead_time',\n",
       " 'total_of_special_requests',\n",
       " 'distribution_channel_TA/TO',\n",
       " 'booking_changes',\n",
       " 'market_segment_Groups',\n",
       " 'distribution_channel_Direct',\n",
       " 'previous_cancellations',\n",
       " 'hotel_City Hotel',\n",
       " 'market_segment_Direct',\n",
       " 'customer_type_Transient-Party',\n",
       " 'is_repeated_guest',\n",
       " 'reserved_room_type_D',\n",
       " 'arrival_date_day_of_month',\n",
       " 'hotel_Resort Hotel',\n",
       " 'customer_type_Transient',\n",
       " 'meal_FB',\n",
       " 'days_in_waiting_list',\n",
       " 'market_segment_Corporate',\n",
       " 'deposit_type_Refundable',\n",
       " 'previous_bookings_not_canceled',\n",
       " 'market_segment_Complementary',\n",
       " 'distribution_channel_Corporate',\n",
       " 'reserved_room_type_A',\n",
       " 'adults',\n",
       " 'market_segment_Aviation']"
      ]
     },
     "execution_count": 69,
     "metadata": {},
     "output_type": "execute_result"
    }
   ],
   "source": [
    "importantmrmr"
   ]
  },
  {
   "cell_type": "code",
   "execution_count": 13,
   "id": "a20c38e1-d987-4ad3-82f1-ccfa1e5ea529",
   "metadata": {},
   "outputs": [
    {
     "ename": "NameError",
     "evalue": "name 'importantkbest' is not defined",
     "output_type": "error",
     "traceback": [
      "\u001b[1;31m---------------------------------------------------------------------------\u001b[0m",
      "\u001b[1;31mNameError\u001b[0m                                 Traceback (most recent call last)",
      "Cell \u001b[1;32mIn[13], line 1\u001b[0m\n\u001b[1;32m----> 1\u001b[0m \u001b[43mimportantkbest\u001b[49m\n",
      "\u001b[1;31mNameError\u001b[0m: name 'importantkbest' is not defined"
     ]
    }
   ],
   "source": [
    "importantkbest"
   ]
  },
  {
   "cell_type": "code",
   "execution_count": null,
   "id": "cfd41401-7195-45f3-9135-dbc7e93cf991",
   "metadata": {},
   "outputs": [],
   "source": [
    "set2 = set(importantmrmr) & set(importantkbest)"
   ]
  },
  {
   "cell_type": "code",
   "execution_count": null,
   "id": "2e1d8ecc-2d4e-4fbb-a52f-80fb868db674",
   "metadata": {},
   "outputs": [],
   "source": [
    "venn2(subsets=(len(importantmrmr), len(importantkbest), len(set2)),  \n",
    "      set_labels=('MRMR Important', 'Select K Best Important'), \n",
    "      set_colors=(\"orange\", \"blue\"), alpha=0.7) \n",
    "  \n",
    "# add outline \n",
    "venn2_circles(subsets=(len(importantmrmr), len(importantkbest), len(set2)),  \n",
    "              linestyle=\"dashed\",  \n",
    "              linewidth=2) \n",
    "  \n",
    "# assign title of the venn diagram \n",
    "plt.title(\"Venn Diagram in Feature Importance\")   \n",
    "plt.show() "
   ]
  },
  {
   "cell_type": "code",
   "execution_count": null,
   "id": "46318fc1-f1f3-4233-9111-95f2b49d3f2c",
   "metadata": {},
   "outputs": [],
   "source": []
  },
  {
   "cell_type": "code",
   "execution_count": null,
   "id": "e772c030-d66e-44f9-a69c-d6c4bb405531",
   "metadata": {},
   "outputs": [],
   "source": []
  },
  {
   "cell_type": "code",
   "execution_count": null,
   "id": "fcbe2efa-96f3-4154-b9a0-ff187334a969",
   "metadata": {},
   "outputs": [],
   "source": []
  },
  {
   "cell_type": "code",
   "execution_count": null,
   "id": "35f816de-3c09-4892-9c24-7aad69f4e027",
   "metadata": {},
   "outputs": [],
   "source": []
  },
  {
   "cell_type": "code",
   "execution_count": null,
   "id": "89478b91-14ee-4663-aa39-868fd8a24d7c",
   "metadata": {},
   "outputs": [],
   "source": []
  },
  {
   "cell_type": "code",
   "execution_count": null,
   "id": "f60b10ea-02d4-4599-b4d7-e39814f0957f",
   "metadata": {},
   "outputs": [],
   "source": []
  },
  {
   "cell_type": "code",
   "execution_count": null,
   "id": "507548bc-2936-47f0-91e3-02b4272bb26d",
   "metadata": {},
   "outputs": [],
   "source": []
  },
  {
   "cell_type": "code",
   "execution_count": null,
   "id": "79c9d3d2-5d9d-4bf9-baa4-59dec95f95ed",
   "metadata": {},
   "outputs": [],
   "source": []
  },
  {
   "cell_type": "code",
   "execution_count": null,
   "id": "0f7568a8-401b-4054-a681-7b5d83c00b0d",
   "metadata": {},
   "outputs": [],
   "source": []
  },
  {
   "cell_type": "code",
   "execution_count": null,
   "id": "eb047f12-e7f2-4290-82cf-2c590e6eb9b6",
   "metadata": {},
   "outputs": [],
   "source": []
  },
  {
   "cell_type": "code",
   "execution_count": 70,
   "id": "eee023dc-7a70-4122-b2b2-f21cbe43ac89",
   "metadata": {},
   "outputs": [
    {
     "name": "stdout",
     "output_type": "stream",
     "text": [
      " - balanced accuracy: 0.76\n",
      " - macro f1: 0.77\n"
     ]
    }
   ],
   "source": [
    "finalmodel = Pipeline([\n",
    "  ('scaler',RobustScaler()),\n",
    "  ('feat_select', SelectKBest(mutual_info_classif,k=29)),\n",
    "  ('classifier', RandomForestClassifier(random_state=42))\n",
    "])\n",
    "\n",
    "finalmodel.fit(X_train, y_train)\n",
    "predictions = finalmodel.predict(X_test)\n",
    "print(' - balanced accuracy:', round(balanced_accuracy_score(y_test, predictions),2))\n",
    "print(' - macro f1:', round(f1_score(y_test, predictions, average='macro'),2))"
   ]
  },
  {
   "cell_type": "code",
   "execution_count": 72,
   "id": "d3c062ba-23f8-4db2-8ae4-0851332ba592",
   "metadata": {},
   "outputs": [
    {
     "data": {
      "text/plain": [
       "array([[422, 116],\n",
       "       [ 37, 175]], dtype=int64)"
      ]
     },
     "execution_count": 72,
     "metadata": {},
     "output_type": "execute_result"
    }
   ],
   "source": [
    "cnf_matrix = confusion_matrix(predictions, y_test)\n",
    "cnf_matrix"
   ]
  },
  {
   "cell_type": "code",
   "execution_count": 74,
   "id": "81249ed3-9205-4251-93ee-6189aaf1e221",
   "metadata": {},
   "outputs": [
    {
     "data": {
      "image/png": "[encoded data removed]",
      "text/plain": [
       "<Figure size 640x480 with 2 Axes>"
      ]
     },
     "metadata": {},
     "output_type": "display_data"
    }
   ],
   "source": [
    "class_names = [0,1]\n",
    "fig, ax = plt.subplots()\n",
    "tick_marks = np.arange(len(class_names))\n",
    "plt.xticks(tick_marks,class_names)\n",
    "plt.yticks(tick_marks,class_names)\n",
    "\n",
    "#Create Heatmap\n",
    "sns.heatmap(pd.DataFrame(cnf_matrix), annot= True, cmap = \"OrRd\", fmt =\"g\")\n",
    "plt.tight_layout()\n",
    "plt.title(\"Confusion matrix\")\n",
    "plt.xlabel(\"Actual Label\")\n",
    "plt.ylabel(\"Predicted Label\")\n",
    "None"
   ]
  },
  {
   "cell_type": "code",
   "execution_count": null,
   "id": "a2ccd39b-0d2f-49f8-b2b9-5d4a2f16a460",
   "metadata": {},
   "outputs": [],
   "source": []
  },
  {
   "cell_type": "code",
   "execution_count": null,
   "id": "9e9f3e47-4ef0-4830-8128-45dc183d727e",
   "metadata": {},
   "outputs": [],
   "source": []
  },
  {
   "cell_type": "code",
   "execution_count": null,
   "id": "3b11ee27-b36a-4b4d-82f7-74f0d04288ff",
   "metadata": {},
   "outputs": [],
   "source": []
  },
  {
   "cell_type": "code",
   "execution_count": null,
   "id": "cc1a761b-1f6b-4e80-bcb0-68db5d1357b3",
   "metadata": {},
   "outputs": [],
   "source": []
  }
 ],
 "metadata": {
  "kernelspec": {
   "display_name": "Python 3 (ipykernel)",
   "language": "python",
   "name": "python3"
  },
  "language_info": {
   "codemirror_mode": {
    "name": "ipython",
    "version": 3
   },
   "file_extension": ".py",
   "mimetype": "text/x-python",
   "name": "python",
   "nbconvert_exporter": "python",
   "pygments_lexer": "ipython3",
   "version": "3.9.17"
  }
 },
 "nbformat": 4,
 "nbformat_minor": 5
}
